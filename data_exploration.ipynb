{
 "cells": [
  {
   "cell_type": "markdown",
   "metadata": {},
   "source": [
    "# **EXPLORAÇÃO DOS DADOS**"
   ]
  },
  {
   "cell_type": "code",
   "execution_count": 1,
   "metadata": {},
   "outputs": [],
   "source": [
    "import numpy as np\n",
    "import pandas as pd\n",
    "import seaborn as sns"
   ]
  },
  {
   "cell_type": "code",
   "execution_count": 2,
   "metadata": {},
   "outputs": [],
   "source": [
    "df_zppoutput = pd.read_csv(r\"C:\\Users\\admin\\Desktop\\Projetos\\DBs\\zppoutput_1s2022.csv\", delimiter=';')"
   ]
  },
  {
   "cell_type": "code",
   "execution_count": 16,
   "metadata": {},
   "outputs": [
    {
     "data": {
      "text/html": [
       "<div>\n",
       "<style scoped>\n",
       "    .dataframe tbody tr th:only-of-type {\n",
       "        vertical-align: middle;\n",
       "    }\n",
       "\n",
       "    .dataframe tbody tr th {\n",
       "        vertical-align: top;\n",
       "    }\n",
       "\n",
       "    .dataframe thead th {\n",
       "        text-align: right;\n",
       "    }\n",
       "</style>\n",
       "<table border=\"1\" class=\"dataframe\">\n",
       "  <thead>\n",
       "    <tr style=\"text-align: right;\">\n",
       "      <th></th>\n",
       "      <th>Material</th>\n",
       "      <th>Grid Value</th>\n",
       "      <th>Order Number</th>\n",
       "      <th>Yield to confirm</th>\n",
       "      <th>Posting date</th>\n",
       "      <th>Local time</th>\n",
       "      <th>Scrap to confirm</th>\n",
       "      <th>Std.text Key</th>\n",
       "      <th>Split  quantity</th>\n",
       "      <th>Scrap Reason code</th>\n",
       "      <th>Control key</th>\n",
       "      <th>Material Group</th>\n",
       "      <th>Entered by</th>\n",
       "      <th>Order Type</th>\n",
       "      <th>BO Quantity</th>\n",
       "      <th>Planned finish date</th>\n",
       "      <th>Qty rework 1</th>\n",
       "      <th>Reason code description</th>\n",
       "      <th>Split Order</th>\n",
       "      <th>Split Reason code</th>\n",
       "    </tr>\n",
       "  </thead>\n",
       "  <tbody>\n",
       "    <tr>\n",
       "      <th>0</th>\n",
       "      <td>1TE2749A01</td>\n",
       "      <td>PT083 AA</td>\n",
       "      <td>1823457820</td>\n",
       "      <td>420,000</td>\n",
       "      <td>04.02.2022</td>\n",
       "      <td>23:59:59</td>\n",
       "      <td>0,000</td>\n",
       "      <td>VAP1</td>\n",
       "      <td>0,000</td>\n",
       "      <td></td>\n",
       "      <td>ZP11</td>\n",
       "      <td>L174</td>\n",
       "      <td>NADIELDL</td>\n",
       "      <td>ZP10</td>\n",
       "      <td>0</td>\n",
       "      <td>10.02.2022</td>\n",
       "      <td>0,000</td>\n",
       "      <td></td>\n",
       "      <td></td>\n",
       "      <td></td>\n",
       "    </tr>\n",
       "    <tr>\n",
       "      <th>1</th>\n",
       "      <td>1AJA13QA01</td>\n",
       "      <td>PT541 AA</td>\n",
       "      <td>1824912991</td>\n",
       "      <td>100,000</td>\n",
       "      <td>18.04.2022</td>\n",
       "      <td>23:59:59</td>\n",
       "      <td>0,000</td>\n",
       "      <td>VAP1</td>\n",
       "      <td>0,000</td>\n",
       "      <td></td>\n",
       "      <td>ZP11</td>\n",
       "      <td>L263</td>\n",
       "      <td>CAPARECIDA</td>\n",
       "      <td>ZP10</td>\n",
       "      <td>0</td>\n",
       "      <td>22.04.2022</td>\n",
       "      <td>0,000</td>\n",
       "      <td></td>\n",
       "      <td></td>\n",
       "      <td></td>\n",
       "    </tr>\n",
       "    <tr>\n",
       "      <th>2</th>\n",
       "      <td>0P93152</td>\n",
       "      <td>G543  53</td>\n",
       "      <td>1825322319</td>\n",
       "      <td>89,000</td>\n",
       "      <td>27.05.2022</td>\n",
       "      <td>23:59:59</td>\n",
       "      <td>0,000</td>\n",
       "      <td>KIT1</td>\n",
       "      <td>0,000</td>\n",
       "      <td></td>\n",
       "      <td>ZP14</td>\n",
       "      <td>L196</td>\n",
       "      <td>JENIFFERTLB</td>\n",
       "      <td>ZP10</td>\n",
       "      <td>0</td>\n",
       "      <td>31.05.2022</td>\n",
       "      <td>0,000</td>\n",
       "      <td></td>\n",
       "      <td></td>\n",
       "      <td></td>\n",
       "    </tr>\n",
       "    <tr>\n",
       "      <th>3</th>\n",
       "      <td>1AM8257A01</td>\n",
       "      <td>DR272 AA</td>\n",
       "      <td>1825934050</td>\n",
       "      <td>129,000</td>\n",
       "      <td>03.06.2022</td>\n",
       "      <td>23:59:59</td>\n",
       "      <td>0,000</td>\n",
       "      <td>DEC1</td>\n",
       "      <td>0,000</td>\n",
       "      <td></td>\n",
       "      <td>ZP11</td>\n",
       "      <td>L265</td>\n",
       "      <td>MARCOSPBDA</td>\n",
       "      <td>ZP10</td>\n",
       "      <td>0</td>\n",
       "      <td>03.06.2022</td>\n",
       "      <td>0,000</td>\n",
       "      <td></td>\n",
       "      <td></td>\n",
       "      <td></td>\n",
       "    </tr>\n",
       "    <tr>\n",
       "      <th>4</th>\n",
       "      <td>0J83229</td>\n",
       "      <td>K186  53</td>\n",
       "      <td>1825931422</td>\n",
       "      <td>98,000</td>\n",
       "      <td>07.06.2022</td>\n",
       "      <td>23:59:59</td>\n",
       "      <td>0,000</td>\n",
       "      <td>ENG1</td>\n",
       "      <td>0,000</td>\n",
       "      <td></td>\n",
       "      <td>ZP11</td>\n",
       "      <td>L196</td>\n",
       "      <td>CAPARECIDA</td>\n",
       "      <td>ZP10</td>\n",
       "      <td>0</td>\n",
       "      <td>22.06.2022</td>\n",
       "      <td>0,000</td>\n",
       "      <td></td>\n",
       "      <td></td>\n",
       "      <td></td>\n",
       "    </tr>\n",
       "  </tbody>\n",
       "</table>\n",
       "</div>"
      ],
      "text/plain": [
       "    Material     Grid Value  Order Number  Yield to confirm  Posting date  \\\n",
       "0   1TE2749A01   PT083 AA      1823457820          420,000   04.02.2022     \n",
       "1   1AJA13QA01   PT541 AA      1824912991          100,000   18.04.2022     \n",
       "2   0P93152      G543  53      1825322319           89,000   27.05.2022     \n",
       "3   1AM8257A01   DR272 AA      1825934050          129,000   03.06.2022     \n",
       "4   0J83229      K186  53      1825931422           98,000   07.06.2022     \n",
       "\n",
       "   Local time  Scrap to confirm  Std.text Key  Split  quantity  \\\n",
       "0  23:59:59              0,000   VAP1                   0,000    \n",
       "1  23:59:59              0,000   VAP1                   0,000    \n",
       "2  23:59:59              0,000   KIT1                   0,000    \n",
       "3  23:59:59              0,000   DEC1                   0,000    \n",
       "4  23:59:59              0,000   ENG1                   0,000    \n",
       "\n",
       "   Scrap Reason code  Control key  Material Group  Entered by    Order Type  \\\n",
       "0                     ZP11         L174            NADIELDL      ZP10         \n",
       "1                     ZP11         L263            CAPARECIDA    ZP10         \n",
       "2                     ZP14         L196            JENIFFERTLB   ZP10         \n",
       "3                     ZP11         L265            MARCOSPBDA    ZP10         \n",
       "4                     ZP11         L196            CAPARECIDA    ZP10         \n",
       "\n",
       "   BO Quantity  Planned finish date  Qty rework 1  \\\n",
       "0            0  10.02.2022                 0,000    \n",
       "1            0  22.04.2022                 0,000    \n",
       "2            0  31.05.2022                 0,000    \n",
       "3            0  03.06.2022                 0,000    \n",
       "4            0  22.06.2022                 0,000    \n",
       "\n",
       "   Reason code description                  Split Order  Split Reason code  \n",
       "0                                                                           \n",
       "1                                                                           \n",
       "2                                                                           \n",
       "3                                                                           \n",
       "4                                                                           "
      ]
     },
     "execution_count": 16,
     "metadata": {},
     "output_type": "execute_result"
    }
   ],
   "source": [
    "df_zppoutput.head()"
   ]
  },
  {
   "cell_type": "markdown",
   "metadata": {},
   "source": [
    "## **Análise dos Atributos (df_zppoutput)**"
   ]
  },
  {
   "cell_type": "markdown",
   "metadata": {},
   "source": [
    "### **Material = informação do que foi pedido para ser produzido (modelos acabados ou componentes)**"
   ]
  },
  {
   "cell_type": "code",
   "execution_count": 17,
   "metadata": {},
   "outputs": [
    {
     "data": {
      "text/plain": [
       " 0RX7047        24023\n",
       " 0OO9417        20763\n",
       " 0OO9448         9234\n",
       " 0RX7046         7316\n",
       " 1AJ7922E01      7298\n",
       "                ...  \n",
       "0VO5418L            1\n",
       "0RX7047             1\n",
       " 0VO5292L           1\n",
       "0RX4378V            1\n",
       " RAX4085AB          1\n",
       "Name:  Material   , Length: 1625, dtype: int64"
      ]
     },
     "execution_count": 17,
     "metadata": {},
     "output_type": "execute_result"
    }
   ],
   "source": [
    "df_zppoutput[' Material   '].value_counts()"
   ]
  },
  {
   "cell_type": "code",
   "execution_count": 18,
   "metadata": {},
   "outputs": [
    {
     "data": {
      "text/plain": [
       "0"
      ]
     },
     "execution_count": 18,
     "metadata": {},
     "output_type": "execute_result"
    }
   ],
   "source": [
    "df_zppoutput[' Material   '].isnull().sum()"
   ]
  },
  {
   "cell_type": "markdown",
   "metadata": {},
   "source": [
    "#### OBS: Há espaços entre os itens dessa coluna que também precisarão ser removidos."
   ]
  },
  {
   "cell_type": "markdown",
   "metadata": {},
   "source": [
    "### **Grid Value = diferentes variações de um mesmo modelo/material**"
   ]
  },
  {
   "cell_type": "code",
   "execution_count": 19,
   "metadata": {},
   "outputs": [
    {
     "data": {
      "text/plain": [
       "              25441\n",
       "5196  54       7797\n",
       "94170559       7043\n",
       "PT055 AA       5698\n",
       "5196  56       4533\n",
       "              ...  \n",
       "G131  54          1\n",
       "6267B953          1\n",
       "6253B853          1\n",
       "I361  57          1\n",
       "H537  54          1\n",
       "Name: Grid Value, Length: 4558, dtype: int64"
      ]
     },
     "execution_count": 19,
     "metadata": {},
     "output_type": "execute_result"
    }
   ],
   "source": [
    "df_zppoutput['Grid Value'].value_counts()"
   ]
  },
  {
   "cell_type": "code",
   "execution_count": 20,
   "metadata": {},
   "outputs": [
    {
     "data": {
      "text/plain": [
       "0"
      ]
     },
     "execution_count": 20,
     "metadata": {},
     "output_type": "execute_result"
    }
   ],
   "source": [
    "df_zppoutput['Grid Value'].isnull().sum()"
   ]
  },
  {
   "cell_type": "markdown",
   "metadata": {},
   "source": [
    "#### OBS: Talvez faça mais sentido posteriormente juntas as colunas \"Material\" e \"Grid Value\" para montar uma coluna de \"SKU\", que é um identificador único de cada item que foi feito o pedido de produção."
   ]
  },
  {
   "cell_type": "markdown",
   "metadata": {},
   "source": [
    "### **Order numb = número da ordem de produção**"
   ]
  },
  {
   "cell_type": "code",
   "execution_count": 21,
   "metadata": {},
   "outputs": [
    {
     "data": {
      "text/plain": [
       "1826167234    36\n",
       "1823767255    34\n",
       "1825462458    34\n",
       "1824999921    33\n",
       "1823336173    32\n",
       "              ..\n",
       "1826364389     1\n",
       "1826364511     1\n",
       "1825944479     1\n",
       "1826364385     1\n",
       "1825977072     1\n",
       "Name: Order Number, Length: 75349, dtype: int64"
      ]
     },
     "execution_count": 21,
     "metadata": {},
     "output_type": "execute_result"
    }
   ],
   "source": [
    "df_zppoutput['Order Number'].value_counts()"
   ]
  },
  {
   "cell_type": "code",
   "execution_count": 22,
   "metadata": {},
   "outputs": [
    {
     "data": {
      "text/plain": [
       "0"
      ]
     },
     "execution_count": 22,
     "metadata": {},
     "output_type": "execute_result"
    }
   ],
   "source": [
    "df_zppoutput['Order Number'].isnull().sum()"
   ]
  },
  {
   "cell_type": "markdown",
   "metadata": {},
   "source": [
    "### **Yield to confirm = número de peças produzidas**"
   ]
  },
  {
   "cell_type": "code",
   "execution_count": 23,
   "metadata": {},
   "outputs": [
    {
     "data": {
      "text/plain": [
       "          0,000     163269\n",
       "        100,000      61221\n",
       "        300,000      20563\n",
       "        320,000      19248\n",
       "         50,000      14187\n",
       "                     ...  \n",
       "        294,700          1\n",
       "        535,000          1\n",
       "        760,000          1\n",
       "         28,970          1\n",
       "        446,000          1\n",
       "Name: Yield to confirm, Length: 447, dtype: int64"
      ]
     },
     "execution_count": 23,
     "metadata": {},
     "output_type": "execute_result"
    }
   ],
   "source": [
    "df_zppoutput['Yield to confirm'].value_counts()"
   ]
  },
  {
   "cell_type": "code",
   "execution_count": 24,
   "metadata": {},
   "outputs": [
    {
     "data": {
      "text/plain": [
       "0"
      ]
     },
     "execution_count": 24,
     "metadata": {},
     "output_type": "execute_result"
    }
   ],
   "source": [
    "df_zppoutput['Yield to confirm'].isnull().sum()"
   ]
  },
  {
   "cell_type": "markdown",
   "metadata": {},
   "source": [
    "#### OBS: As linhas com  peças que possuem valor 0 nesta coluna podem ser excluídas, já que não agregarão nada para a análise posteriormente"
   ]
  },
  {
   "cell_type": "markdown",
   "metadata": {},
   "source": [
    "### **Posting date = data em que o pedido de produção foi feito**"
   ]
  },
  {
   "cell_type": "code",
   "execution_count": 25,
   "metadata": {},
   "outputs": [
    {
     "data": {
      "text/plain": [
       "24.06.2022      7050\n",
       "23.06.2022      6727\n",
       "27.06.2022      6690\n",
       "28.06.2022      6649\n",
       "21.06.2022      6622\n",
       "                ... \n",
       "20.03.2022         4\n",
       "03.04.2022         3\n",
       "12.06.2022         3\n",
       "15.05.2022         1\n",
       "02.01.2022         1\n",
       "Name: Posting date, Length: 173, dtype: int64"
      ]
     },
     "execution_count": 25,
     "metadata": {},
     "output_type": "execute_result"
    }
   ],
   "source": [
    "df_zppoutput['Posting date'].value_counts()"
   ]
  },
  {
   "cell_type": "code",
   "execution_count": 26,
   "metadata": {},
   "outputs": [
    {
     "data": {
      "text/plain": [
       "0"
      ]
     },
     "execution_count": 26,
     "metadata": {},
     "output_type": "execute_result"
    }
   ],
   "source": [
    "df_zppoutput['Posting date'].isnull().sum()"
   ]
  },
  {
   "cell_type": "markdown",
   "metadata": {},
   "source": [
    "#### OBS: Esta coluna precisará ser convertida para o tipo 'date' posteriormente."
   ]
  },
  {
   "cell_type": "markdown",
   "metadata": {},
   "source": [
    "### **Std.text Key = código das Milestones (grupos de operações realizadas pelos operadores)**"
   ]
  },
  {
   "cell_type": "code",
   "execution_count": 27,
   "metadata": {},
   "outputs": [
    {
     "data": {
      "text/plain": [
       "QPA1            98605\n",
       "LIN1            74850\n",
       "ENG1            35213\n",
       "PST1            33695\n",
       "VAP1            30827\n",
       "                ...  \n",
       "VMP3               13\n",
       "LEN2               11\n",
       "FMI2                5\n",
       "VAP3                4\n",
       "INJ2                1\n",
       "Name: Std.text Key, Length: 91, dtype: int64"
      ]
     },
     "execution_count": 27,
     "metadata": {},
     "output_type": "execute_result"
    }
   ],
   "source": [
    "df_zppoutput['Std.text Key'].value_counts()"
   ]
  },
  {
   "cell_type": "markdown",
   "metadata": {},
   "source": [
    "### **Material Group = código das famílias de materiais (grupos de materiais que possuem determinadas características em comum)**"
   ]
  },
  {
   "cell_type": "code",
   "execution_count": 3,
   "metadata": {},
   "outputs": [
    {
     "data": {
      "text/plain": [
       "L196              509934\n",
       "L263              110498\n",
       "L265               51816\n",
       "L174               36854\n",
       "L177               13022\n",
       "L325               10954\n",
       "L214                5035\n",
       "L176                2889\n",
       "L322                2279\n",
       "L386                 773\n",
       "L271                 614\n",
       "L225                 459\n",
       "L198                 316\n",
       "L281                 314\n",
       "L180                 254\n",
       "L139                  52\n",
       "L447                  47\n",
       "L334                  45\n",
       "L261                  25\n",
       "L240                  18\n",
       "L413                  10\n",
       "L378                   9\n",
       "Name: Material Group, dtype: int64"
      ]
     },
     "execution_count": 3,
     "metadata": {},
     "output_type": "execute_result"
    }
   ],
   "source": [
    "df_zppoutput['Material Group'].value_counts()"
   ]
  },
  {
   "cell_type": "markdown",
   "metadata": {},
   "source": [
    "#### OBS: Apenas os valores L196 serão considerados na análise, portanto poderá ser feito um filtro posteriormente para trazer apenas as linhas com este valor nesta coluna.\n",
    "\n",
    "#### Há espaços entre os itens dessa coluna que também precisarão ser removidos."
   ]
  },
  {
   "cell_type": "markdown",
   "metadata": {},
   "source": [
    "### **Entered By = Usuário/pessoa que realizou determinada operação em uma peça**"
   ]
  },
  {
   "cell_type": "code",
   "execution_count": 4,
   "metadata": {},
   "outputs": [
    {
     "data": {
      "text/plain": [
       "MARCELOCB       40669\n",
       "MARCOSPBDA      39380\n",
       "GICELES         28365\n",
       "MARIANAAN       20288\n",
       "PATRICIAMAL     19836\n",
       "                ...  \n",
       "MTIRICH             1\n",
       "MENEZESMR           1\n",
       "CRISTINAMCL         1\n",
       "BEATRIZB            1\n",
       "WELLINGTONT         1\n",
       "Name: Entered by  , Length: 162, dtype: int64"
      ]
     },
     "execution_count": 4,
     "metadata": {},
     "output_type": "execute_result"
    }
   ],
   "source": [
    "df_zppoutput['Entered by  '].value_counts()"
   ]
  },
  {
   "cell_type": "markdown",
   "metadata": {},
   "source": [
    "#### OBS: Há espaços entre os itens dessa coluna que também precisarão ser removidos.\n",
    "\n",
    "#### Os nomes não estão escritos em um padrão. Como este é o código de usuário da pessoa, as vezes ele começa com o primeiro nome da pessoa, as vezes com o sobrenome, então talvez faça sentido substituir posteriormente estes códigos de usuários por um código numérico simples."
   ]
  },
  {
   "cell_type": "markdown",
   "metadata": {},
   "source": [
    "### **OBS: As demais colunas nesta base de dados não possuem informações que agregam para o seu objetivo, que é fornecer uma visão de quantas peças foram produzidas em qual centro de custo, portanto serão todas excluídas!**"
   ]
  },
  {
   "cell_type": "markdown",
   "metadata": {},
   "source": [
    "## **Análise dos tipos de atributos.**"
   ]
  },
  {
   "cell_type": "code",
   "execution_count": 5,
   "metadata": {},
   "outputs": [
    {
     "data": {
      "text/plain": [
       " Material                                  object\n",
       "Grid Value                                 object\n",
       "Order Number                                int64\n",
       "Yield to confirm                           object\n",
       "Posting date                               object\n",
       "Local time                                 object\n",
       "Scrap to confirm                           object\n",
       "Std.text Key                               object\n",
       "Split  quantity                            object\n",
       "Scrap Reason code                          object\n",
       "Control key                                object\n",
       "Material Group                             object\n",
       "Entered by                                 object\n",
       "Order Type                                 object\n",
       "BO Quantity                                 int64\n",
       "Planned finish date                        object\n",
       "Qty rework 1                               object\n",
       "Reason code description                    object\n",
       "Split Order                                object\n",
       "Split Reason code                          object\n",
       "dtype: object"
      ]
     },
     "execution_count": 5,
     "metadata": {},
     "output_type": "execute_result"
    }
   ],
   "source": [
    "df_zppoutput.dtypes"
   ]
  },
  {
   "cell_type": "markdown",
   "metadata": {},
   "source": [
    "## **Valores missing (NAN)**"
   ]
  },
  {
   "cell_type": "code",
   "execution_count": 6,
   "metadata": {},
   "outputs": [
    {
     "data": {
      "text/plain": [
       " Material                                  0\n",
       "Grid Value                                 0\n",
       "Order Number                               0\n",
       "Yield to confirm                           0\n",
       "Posting date                               0\n",
       "Local time                                 0\n",
       "Scrap to confirm                           0\n",
       "Std.text Key                               0\n",
       "Split  quantity                            0\n",
       "Scrap Reason code                          0\n",
       "Control key                                0\n",
       "Material Group                             0\n",
       "Entered by                                 0\n",
       "Order Type                                 0\n",
       "BO Quantity                                0\n",
       "Planned finish date                        0\n",
       "Qty rework 1                               0\n",
       "Reason code description                    0\n",
       "Split Order                                0\n",
       "Split Reason code                          0\n",
       "dtype: int64"
      ]
     },
     "execution_count": 6,
     "metadata": {},
     "output_type": "execute_result"
    }
   ],
   "source": [
    "df_zppoutput.isnull().sum()"
   ]
  }
 ],
 "metadata": {
  "kernelspec": {
   "display_name": "Python 3",
   "language": "python",
   "name": "python3"
  },
  "language_info": {
   "codemirror_mode": {
    "name": "ipython",
    "version": 3
   },
   "file_extension": ".py",
   "mimetype": "text/x-python",
   "name": "python",
   "nbconvert_exporter": "python",
   "pygments_lexer": "ipython3",
   "version": "3.10.11"
  },
  "orig_nbformat": 4
 },
 "nbformat": 4,
 "nbformat_minor": 2
}
