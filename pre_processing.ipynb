{
 "cells": [
  {
   "cell_type": "code",
   "execution_count": 1,
   "metadata": {},
   "outputs": [],
   "source": [
    "import numpy as np\n",
    "import pandas as pd\n",
    "import seaborn as sns"
   ]
  },
  {
   "cell_type": "code",
   "execution_count": 2,
   "metadata": {},
   "outputs": [],
   "source": [
    "df1 = pd.read_csv(r\"C:\\Users\\admin\\Desktop\\Projetos\\DBs\\ZPP Output_Processed\\zppoutput_1s2022.csv\", delimiter=';')\n",
    "df2 = pd.read_csv(r\"C:\\Users\\admin\\Desktop\\Projetos\\DBs\\ZPP Output_Processed\\zppoutput_2s2022.csv\", delimiter=';')\n",
    "df3 = pd.read_csv(r\"C:\\Users\\admin\\Desktop\\Projetos\\DBs\\ZPP Output_Processed\\zppoutput_2s2021.csv\", delimiter=';')\n",
    "df4 = pd.read_csv(r\"C:\\Users\\admin\\Desktop\\Projetos\\DBs\\ZPP Output_Processed\\zppoutput_1s2023.csv\", delimiter=';')"
   ]
  },
  {
   "cell_type": "code",
   "execution_count": 3,
   "metadata": {},
   "outputs": [],
   "source": [
    "frames = [df1, df2, df3, df4]\n",
    "df = pd.concat(frames)"
   ]
  },
  {
   "cell_type": "code",
   "execution_count": 4,
   "metadata": {},
   "outputs": [],
   "source": [
    "df.to_csv('zppoutput.csv', sep=';', encoding='utf-8', index = False)"
   ]
  }
 ],
 "metadata": {
  "kernelspec": {
   "display_name": "Python 3",
   "language": "python",
   "name": "python3"
  },
  "language_info": {
   "codemirror_mode": {
    "name": "ipython",
    "version": 3
   },
   "file_extension": ".py",
   "mimetype": "text/x-python",
   "name": "python",
   "nbconvert_exporter": "python",
   "pygments_lexer": "ipython3",
   "version": "3.10.11"
  }
 },
 "nbformat": 4,
 "nbformat_minor": 2
}
