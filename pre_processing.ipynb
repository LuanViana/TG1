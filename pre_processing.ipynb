{
 "cells": [
  {
   "cell_type": "markdown",
   "metadata": {},
   "source": [
    "# **PRÉ-PROCESSAMENTO**"
   ]
  },
  {
   "cell_type": "code",
   "execution_count": 1,
   "metadata": {},
   "outputs": [],
   "source": [
    "import numpy as np\n",
    "import pandas as pd\n",
    "import seaborn as sns\n",
    "from sklearn.model_selection import train_test_split\n",
    "from sklearn.decomposition import PCA\n",
    "from sklearn.preprocessing import LabelEncoder\n",
    "from sklearn.preprocessing import StandardScaler\n",
    "from sklearn.model_selection import KFold\n",
    "from sklearn.model_selection import cross_val_score\n",
    "from sklearn.metrics import accuracy_score, confusion_matrix, classification_report\n",
    "import pickle"
   ]
  },
  {
   "cell_type": "code",
   "execution_count": 20,
   "metadata": {},
   "outputs": [],
   "source": [
    "df1 = pd.read_csv(r\"C:\\Users\\admin\\Desktop\\Projetos\\DBs\\ZPP Output_Processed\\zppoutput_1s2022.csv\", delimiter=';')\n",
    "df2 = pd.read_csv(r\"C:\\Users\\admin\\Desktop\\Projetos\\DBs\\ZPP Output_Processed\\zppoutput_2s2022.csv\", delimiter=';')\n",
    "df3 = pd.read_csv(r\"C:\\Users\\admin\\Desktop\\Projetos\\DBs\\ZPP Output_Processed\\zppoutput_2s2021.csv\", delimiter=';')\n",
    "df4 = pd.read_csv(r\"C:\\Users\\admin\\Desktop\\Projetos\\DBs\\ZPP Output_Processed\\zppoutput_1s2023.csv\", delimiter=';')"
   ]
  },
  {
   "cell_type": "code",
   "execution_count": 21,
   "metadata": {},
   "outputs": [],
   "source": [
    "frames = [df1, df2, df3, df4]\n",
    "df = pd.concat(frames)"
   ]
  },
  {
   "cell_type": "code",
   "execution_count": 4,
   "metadata": {},
   "outputs": [],
   "source": [
    "df.to_csv('zppoutput.csv', sep=';', encoding='utf-8', index = False)"
   ]
  },
  {
   "cell_type": "code",
   "execution_count": 26,
   "metadata": {},
   "outputs": [
    {
     "data": {
      "text/html": [
       "<div>\n",
       "<style scoped>\n",
       "    .dataframe tbody tr th:only-of-type {\n",
       "        vertical-align: middle;\n",
       "    }\n",
       "\n",
       "    .dataframe tbody tr th {\n",
       "        vertical-align: top;\n",
       "    }\n",
       "\n",
       "    .dataframe thead th {\n",
       "        text-align: right;\n",
       "    }\n",
       "</style>\n",
       "<table border=\"1\" class=\"dataframe\">\n",
       "  <thead>\n",
       "    <tr style=\"text-align: right;\">\n",
       "      <th></th>\n",
       "      <th>ID</th>\n",
       "      <th>Order Number</th>\n",
       "      <th>Posting date</th>\n",
       "      <th>SKU</th>\n",
       "      <th>Quantity</th>\n",
       "      <th>Milestone</th>\n",
       "      <th>Entered by</th>\n",
       "      <th>Cost ctr</th>\n",
       "    </tr>\n",
       "  </thead>\n",
       "  <tbody>\n",
       "    <tr>\n",
       "      <th>0</th>\n",
       "      <td>1820587547445640OO9417L94170359MARIANAAN</td>\n",
       "      <td>1820587547</td>\n",
       "      <td>03/01/2022</td>\n",
       "      <td>0OO9417L94170359</td>\n",
       "      <td>60</td>\n",
       "      <td>PRA</td>\n",
       "      <td>MARIANAAN</td>\n",
       "      <td>132-45565</td>\n",
       "    </tr>\n",
       "    <tr>\n",
       "      <th>1</th>\n",
       "      <td>1820871421445640AX4121S82948759CINTHIABDAR</td>\n",
       "      <td>1820871421</td>\n",
       "      <td>03/01/2022</td>\n",
       "      <td>0AX4121S82948759</td>\n",
       "      <td>37</td>\n",
       "      <td>LIN</td>\n",
       "      <td>CINTHIABDAR</td>\n",
       "      <td>132-45565</td>\n",
       "    </tr>\n",
       "    <tr>\n",
       "      <th>2</th>\n",
       "      <td>1821294046445640JK2007BJ16354GICELES</td>\n",
       "      <td>1821294046</td>\n",
       "      <td>03/01/2022</td>\n",
       "      <td>0JK2007BJ16354</td>\n",
       "      <td>69</td>\n",
       "      <td>EMB</td>\n",
       "      <td>GICELES</td>\n",
       "      <td>132-45565</td>\n",
       "    </tr>\n",
       "    <tr>\n",
       "      <th>3</th>\n",
       "      <td>1821294046445640JK2007BJ16354ALIDIA</td>\n",
       "      <td>1821294046</td>\n",
       "      <td>03/01/2022</td>\n",
       "      <td>0JK2007BJ16354</td>\n",
       "      <td>69</td>\n",
       "      <td>LIN</td>\n",
       "      <td>ALIDIA</td>\n",
       "      <td>132-45565</td>\n",
       "    </tr>\n",
       "    <tr>\n",
       "      <th>4</th>\n",
       "      <td>1821404980445640RB3663L004/7160MARIANAAN</td>\n",
       "      <td>1821404980</td>\n",
       "      <td>03/01/2022</td>\n",
       "      <td>0RB3663L004/7160</td>\n",
       "      <td>319</td>\n",
       "      <td>PRA</td>\n",
       "      <td>MARIANAAN</td>\n",
       "      <td>132-45565</td>\n",
       "    </tr>\n",
       "  </tbody>\n",
       "</table>\n",
       "</div>"
      ],
      "text/plain": [
       "                                           ID  Order Number Posting date  \\\n",
       "0    1820587547445640OO9417L94170359MARIANAAN    1820587547   03/01/2022   \n",
       "1  1820871421445640AX4121S82948759CINTHIABDAR    1820871421   03/01/2022   \n",
       "2        1821294046445640JK2007BJ16354GICELES    1821294046   03/01/2022   \n",
       "3         1821294046445640JK2007BJ16354ALIDIA    1821294046   03/01/2022   \n",
       "4    1821404980445640RB3663L004/7160MARIANAAN    1821404980   03/01/2022   \n",
       "\n",
       "                SKU  Quantity Milestone   Entered by   Cost ctr  \n",
       "0  0OO9417L94170359        60       PRA    MARIANAAN  132-45565  \n",
       "1  0AX4121S82948759        37       LIN  CINTHIABDAR  132-45565  \n",
       "2    0JK2007BJ16354        69       EMB      GICELES  132-45565  \n",
       "3    0JK2007BJ16354        69       LIN       ALIDIA  132-45565  \n",
       "4  0RB3663L004/7160       319       PRA    MARIANAAN  132-45565  "
      ]
     },
     "execution_count": 26,
     "metadata": {},
     "output_type": "execute_result"
    }
   ],
   "source": [
    "df.head()"
   ]
  },
  {
   "cell_type": "markdown",
   "metadata": {},
   "source": [
    "## **Transformando o dataframe para exibir as variáveis de interesse**"
   ]
  },
  {
   "cell_type": "code",
   "execution_count": 22,
   "metadata": {},
   "outputs": [],
   "source": [
    "df2 = pd.DataFrame.copy(df)"
   ]
  },
  {
   "cell_type": "code",
   "execution_count": 23,
   "metadata": {},
   "outputs": [
    {
     "data": {
      "text/html": [
       "<div>\n",
       "<style scoped>\n",
       "    .dataframe tbody tr th:only-of-type {\n",
       "        vertical-align: middle;\n",
       "    }\n",
       "\n",
       "    .dataframe tbody tr th {\n",
       "        vertical-align: top;\n",
       "    }\n",
       "\n",
       "    .dataframe thead th {\n",
       "        text-align: right;\n",
       "    }\n",
       "</style>\n",
       "<table border=\"1\" class=\"dataframe\">\n",
       "  <thead>\n",
       "    <tr style=\"text-align: right;\">\n",
       "      <th></th>\n",
       "      <th>Posting date</th>\n",
       "      <th>Quantity</th>\n",
       "      <th>Entered by</th>\n",
       "      <th>Cost ctr</th>\n",
       "    </tr>\n",
       "  </thead>\n",
       "  <tbody>\n",
       "    <tr>\n",
       "      <th>0</th>\n",
       "      <td>03/01/2022</td>\n",
       "      <td>60</td>\n",
       "      <td>MARIANAAN</td>\n",
       "      <td>132-45565</td>\n",
       "    </tr>\n",
       "    <tr>\n",
       "      <th>1</th>\n",
       "      <td>03/01/2022</td>\n",
       "      <td>37</td>\n",
       "      <td>CINTHIABDAR</td>\n",
       "      <td>132-45565</td>\n",
       "    </tr>\n",
       "    <tr>\n",
       "      <th>2</th>\n",
       "      <td>03/01/2022</td>\n",
       "      <td>69</td>\n",
       "      <td>GICELES</td>\n",
       "      <td>132-45565</td>\n",
       "    </tr>\n",
       "    <tr>\n",
       "      <th>3</th>\n",
       "      <td>03/01/2022</td>\n",
       "      <td>69</td>\n",
       "      <td>ALIDIA</td>\n",
       "      <td>132-45565</td>\n",
       "    </tr>\n",
       "    <tr>\n",
       "      <th>4</th>\n",
       "      <td>03/01/2022</td>\n",
       "      <td>319</td>\n",
       "      <td>MARIANAAN</td>\n",
       "      <td>132-45565</td>\n",
       "    </tr>\n",
       "  </tbody>\n",
       "</table>\n",
       "</div>"
      ],
      "text/plain": [
       "  Posting date  Quantity   Entered by   Cost ctr\n",
       "0   03/01/2022        60    MARIANAAN  132-45565\n",
       "1   03/01/2022        37  CINTHIABDAR  132-45565\n",
       "2   03/01/2022        69      GICELES  132-45565\n",
       "3   03/01/2022        69       ALIDIA  132-45565\n",
       "4   03/01/2022       319    MARIANAAN  132-45565"
      ]
     },
     "execution_count": 23,
     "metadata": {},
     "output_type": "execute_result"
    }
   ],
   "source": [
    "# Removendo colunas que não serão utilizadas\n",
    "df2.drop('ID', axis=1, inplace=True)\n",
    "df2.drop('Milestone', axis=1, inplace=True)\n",
    "df2.drop('SKU', axis=1, inplace=True)\n",
    "df2.drop('Order Number', axis=1, inplace=True)\n",
    "df2.head()"
   ]
  },
  {
   "cell_type": "code",
   "execution_count": 24,
   "metadata": {},
   "outputs": [
    {
     "data": {
      "text/html": [
       "<div>\n",
       "<style scoped>\n",
       "    .dataframe tbody tr th:only-of-type {\n",
       "        vertical-align: middle;\n",
       "    }\n",
       "\n",
       "    .dataframe tbody tr th {\n",
       "        vertical-align: top;\n",
       "    }\n",
       "\n",
       "    .dataframe thead th {\n",
       "        text-align: right;\n",
       "    }\n",
       "</style>\n",
       "<table border=\"1\" class=\"dataframe\">\n",
       "  <thead>\n",
       "    <tr style=\"text-align: right;\">\n",
       "      <th></th>\n",
       "      <th>Cost ctr</th>\n",
       "      <th>Posting date</th>\n",
       "      <th>QTY</th>\n",
       "      <th>Employees_QTY</th>\n",
       "    </tr>\n",
       "  </thead>\n",
       "  <tbody>\n",
       "    <tr>\n",
       "      <th>0</th>\n",
       "      <td>132-07265</td>\n",
       "      <td>01/02/2022</td>\n",
       "      <td>1160</td>\n",
       "      <td>11</td>\n",
       "    </tr>\n",
       "    <tr>\n",
       "      <th>1</th>\n",
       "      <td>132-07265</td>\n",
       "      <td>01/02/2023</td>\n",
       "      <td>3330</td>\n",
       "      <td>13</td>\n",
       "    </tr>\n",
       "    <tr>\n",
       "      <th>2</th>\n",
       "      <td>132-07265</td>\n",
       "      <td>01/03/2023</td>\n",
       "      <td>1650</td>\n",
       "      <td>12</td>\n",
       "    </tr>\n",
       "    <tr>\n",
       "      <th>3</th>\n",
       "      <td>132-07265</td>\n",
       "      <td>01/04/2022</td>\n",
       "      <td>1320</td>\n",
       "      <td>18</td>\n",
       "    </tr>\n",
       "    <tr>\n",
       "      <th>4</th>\n",
       "      <td>132-07265</td>\n",
       "      <td>01/04/2023</td>\n",
       "      <td>1490</td>\n",
       "      <td>6</td>\n",
       "    </tr>\n",
       "    <tr>\n",
       "      <th>...</th>\n",
       "      <td>...</td>\n",
       "      <td>...</td>\n",
       "      <td>...</td>\n",
       "      <td>...</td>\n",
       "    </tr>\n",
       "    <tr>\n",
       "      <th>3608</th>\n",
       "      <td>132-45565</td>\n",
       "      <td>31/07/2021</td>\n",
       "      <td>43740</td>\n",
       "      <td>349</td>\n",
       "    </tr>\n",
       "    <tr>\n",
       "      <th>3609</th>\n",
       "      <td>132-45565</td>\n",
       "      <td>31/08/2021</td>\n",
       "      <td>76291</td>\n",
       "      <td>603</td>\n",
       "    </tr>\n",
       "    <tr>\n",
       "      <th>3610</th>\n",
       "      <td>132-45565</td>\n",
       "      <td>31/08/2022</td>\n",
       "      <td>66944</td>\n",
       "      <td>808</td>\n",
       "    </tr>\n",
       "    <tr>\n",
       "      <th>3611</th>\n",
       "      <td>132-45565</td>\n",
       "      <td>31/10/2022</td>\n",
       "      <td>58424</td>\n",
       "      <td>528</td>\n",
       "    </tr>\n",
       "    <tr>\n",
       "      <th>3612</th>\n",
       "      <td>132-45565</td>\n",
       "      <td>31/12/2022</td>\n",
       "      <td>300</td>\n",
       "      <td>1</td>\n",
       "    </tr>\n",
       "  </tbody>\n",
       "</table>\n",
       "<p>3613 rows × 4 columns</p>\n",
       "</div>"
      ],
      "text/plain": [
       "       Cost ctr Posting date    QTY  Employees_QTY\n",
       "0     132-07265   01/02/2022   1160             11\n",
       "1     132-07265   01/02/2023   3330             13\n",
       "2     132-07265   01/03/2023   1650             12\n",
       "3     132-07265   01/04/2022   1320             18\n",
       "4     132-07265   01/04/2023   1490              6\n",
       "...         ...          ...    ...            ...\n",
       "3608  132-45565   31/07/2021  43740            349\n",
       "3609  132-45565   31/08/2021  76291            603\n",
       "3610  132-45565   31/08/2022  66944            808\n",
       "3611  132-45565   31/10/2022  58424            528\n",
       "3612  132-45565   31/12/2022    300              1\n",
       "\n",
       "[3613 rows x 4 columns]"
      ]
     },
     "execution_count": 24,
     "metadata": {},
     "output_type": "execute_result"
    }
   ],
   "source": [
    "# Fazendo um agrupamento dos dados em função das variáveis 'Cost ctr' e 'Posting date' para se obter as variáveis 'QTY' e 'Employees_QTY'\n",
    "df3 = pd.DataFrame({'QTY': df2.groupby(by=['Cost ctr', 'Posting date'])['Quantity'].sum(),\n",
    "                    'Employees_QTY': df2.groupby(['Cost ctr', 'Posting date']).size()}).reset_index()\n",
    "df3"
   ]
  },
  {
   "cell_type": "markdown",
   "metadata": {},
   "source": [
    "## **Transformando as variáveis categóricas nominais em variáveis categóricas ordinais**"
   ]
  },
  {
   "cell_type": "code",
   "execution_count": 25,
   "metadata": {},
   "outputs": [
    {
     "data": {
      "text/html": [
       "<div>\n",
       "<style scoped>\n",
       "    .dataframe tbody tr th:only-of-type {\n",
       "        vertical-align: middle;\n",
       "    }\n",
       "\n",
       "    .dataframe tbody tr th {\n",
       "        vertical-align: top;\n",
       "    }\n",
       "\n",
       "    .dataframe thead th {\n",
       "        text-align: right;\n",
       "    }\n",
       "</style>\n",
       "<table border=\"1\" class=\"dataframe\">\n",
       "  <thead>\n",
       "    <tr style=\"text-align: right;\">\n",
       "      <th></th>\n",
       "      <th>Cost ctr</th>\n",
       "      <th>Posting date</th>\n",
       "      <th>QTY</th>\n",
       "      <th>Employees_QTY</th>\n",
       "    </tr>\n",
       "  </thead>\n",
       "  <tbody>\n",
       "    <tr>\n",
       "      <th>0</th>\n",
       "      <td>0</td>\n",
       "      <td>0</td>\n",
       "      <td>1160</td>\n",
       "      <td>11</td>\n",
       "    </tr>\n",
       "    <tr>\n",
       "      <th>1</th>\n",
       "      <td>0</td>\n",
       "      <td>1</td>\n",
       "      <td>3330</td>\n",
       "      <td>13</td>\n",
       "    </tr>\n",
       "    <tr>\n",
       "      <th>2</th>\n",
       "      <td>0</td>\n",
       "      <td>2</td>\n",
       "      <td>1650</td>\n",
       "      <td>12</td>\n",
       "    </tr>\n",
       "    <tr>\n",
       "      <th>3</th>\n",
       "      <td>0</td>\n",
       "      <td>3</td>\n",
       "      <td>1320</td>\n",
       "      <td>18</td>\n",
       "    </tr>\n",
       "    <tr>\n",
       "      <th>4</th>\n",
       "      <td>0</td>\n",
       "      <td>4</td>\n",
       "      <td>1490</td>\n",
       "      <td>6</td>\n",
       "    </tr>\n",
       "  </tbody>\n",
       "</table>\n",
       "</div>"
      ],
      "text/plain": [
       "   Cost ctr  Posting date   QTY  Employees_QTY\n",
       "0         0             0  1160             11\n",
       "1         0             1  3330             13\n",
       "2         0             2  1650             12\n",
       "3         0             3  1320             18\n",
       "4         0             4  1490              6"
      ]
     },
     "execution_count": 25,
     "metadata": {},
     "output_type": "execute_result"
    }
   ],
   "source": [
    "df3['Cost ctr'].replace({'132-07265':0, '132-07565': 1, '132-10365':2, '132-31265': 3, '132-31865': 4, '132-45565': 5}, inplace=True)\n",
    "df3['Posting date'] = np.arange(len(df3.index))\n",
    "df3.head()"
   ]
  },
  {
   "cell_type": "code",
   "execution_count": 29,
   "metadata": {},
   "outputs": [
    {
     "data": {
      "text/html": [
       "<div>\n",
       "<style scoped>\n",
       "    .dataframe tbody tr th:only-of-type {\n",
       "        vertical-align: middle;\n",
       "    }\n",
       "\n",
       "    .dataframe tbody tr th {\n",
       "        vertical-align: top;\n",
       "    }\n",
       "\n",
       "    .dataframe thead th {\n",
       "        text-align: right;\n",
       "    }\n",
       "</style>\n",
       "<table border=\"1\" class=\"dataframe\">\n",
       "  <thead>\n",
       "    <tr style=\"text-align: right;\">\n",
       "      <th></th>\n",
       "      <th>Cost_ctr</th>\n",
       "      <th>Posting_date</th>\n",
       "      <th>QTY</th>\n",
       "      <th>Employees_QTY</th>\n",
       "    </tr>\n",
       "  </thead>\n",
       "  <tbody>\n",
       "    <tr>\n",
       "      <th>0</th>\n",
       "      <td>0</td>\n",
       "      <td>0</td>\n",
       "      <td>1160</td>\n",
       "      <td>11</td>\n",
       "    </tr>\n",
       "    <tr>\n",
       "      <th>1</th>\n",
       "      <td>0</td>\n",
       "      <td>1</td>\n",
       "      <td>3330</td>\n",
       "      <td>13</td>\n",
       "    </tr>\n",
       "    <tr>\n",
       "      <th>2</th>\n",
       "      <td>0</td>\n",
       "      <td>2</td>\n",
       "      <td>1650</td>\n",
       "      <td>12</td>\n",
       "    </tr>\n",
       "    <tr>\n",
       "      <th>3</th>\n",
       "      <td>0</td>\n",
       "      <td>3</td>\n",
       "      <td>1320</td>\n",
       "      <td>18</td>\n",
       "    </tr>\n",
       "    <tr>\n",
       "      <th>4</th>\n",
       "      <td>0</td>\n",
       "      <td>4</td>\n",
       "      <td>1490</td>\n",
       "      <td>6</td>\n",
       "    </tr>\n",
       "    <tr>\n",
       "      <th>...</th>\n",
       "      <td>...</td>\n",
       "      <td>...</td>\n",
       "      <td>...</td>\n",
       "      <td>...</td>\n",
       "    </tr>\n",
       "    <tr>\n",
       "      <th>3608</th>\n",
       "      <td>5</td>\n",
       "      <td>3608</td>\n",
       "      <td>43740</td>\n",
       "      <td>349</td>\n",
       "    </tr>\n",
       "    <tr>\n",
       "      <th>3609</th>\n",
       "      <td>5</td>\n",
       "      <td>3609</td>\n",
       "      <td>76291</td>\n",
       "      <td>603</td>\n",
       "    </tr>\n",
       "    <tr>\n",
       "      <th>3610</th>\n",
       "      <td>5</td>\n",
       "      <td>3610</td>\n",
       "      <td>66944</td>\n",
       "      <td>808</td>\n",
       "    </tr>\n",
       "    <tr>\n",
       "      <th>3611</th>\n",
       "      <td>5</td>\n",
       "      <td>3611</td>\n",
       "      <td>58424</td>\n",
       "      <td>528</td>\n",
       "    </tr>\n",
       "    <tr>\n",
       "      <th>3612</th>\n",
       "      <td>5</td>\n",
       "      <td>3612</td>\n",
       "      <td>300</td>\n",
       "      <td>1</td>\n",
       "    </tr>\n",
       "  </tbody>\n",
       "</table>\n",
       "<p>3613 rows × 4 columns</p>\n",
       "</div>"
      ],
      "text/plain": [
       "      Cost_ctr  Posting_date    QTY  Employees_QTY\n",
       "0            0             0   1160             11\n",
       "1            0             1   3330             13\n",
       "2            0             2   1650             12\n",
       "3            0             3   1320             18\n",
       "4            0             4   1490              6\n",
       "...        ...           ...    ...            ...\n",
       "3608         5          3608  43740            349\n",
       "3609         5          3609  76291            603\n",
       "3610         5          3610  66944            808\n",
       "3611         5          3611  58424            528\n",
       "3612         5          3612    300              1\n",
       "\n",
       "[3613 rows x 4 columns]"
      ]
     },
     "execution_count": 29,
     "metadata": {},
     "output_type": "execute_result"
    }
   ],
   "source": [
    "df3.rename(columns={\"Cost ctr\": \"Cost_ctr\", \"Posting date\": \"Posting_date\"}, inplace=True)\n",
    "df3"
   ]
  },
  {
   "cell_type": "code",
   "execution_count": 28,
   "metadata": {},
   "outputs": [
    {
     "data": {
      "text/plain": [
       "Cost ctr         int64\n",
       "Posting date     int32\n",
       "QTY              int64\n",
       "Employees_QTY    int64\n",
       "dtype: object"
      ]
     },
     "execution_count": 28,
     "metadata": {},
     "output_type": "execute_result"
    }
   ],
   "source": [
    "df3.dtypes"
   ]
  },
  {
   "cell_type": "markdown",
   "metadata": {},
   "source": [
    "## **LEGENDA**"
   ]
  },
  {
   "cell_type": "markdown",
   "metadata": {},
   "source": [
    "Cost_ctr = centro de custo (setor da linha de produção)\n",
    "\n",
    "Posting_date = data de produção\n",
    "\n",
    "QTY = quantidade de peças produzidas\n",
    "\n",
    "Employees QTY = quantidade de funcionários"
   ]
  },
  {
   "cell_type": "markdown",
   "metadata": {},
   "source": [
    "## **ATRIBUTOS PREVISORES E ALVO**"
   ]
  },
  {
   "cell_type": "code",
   "execution_count": 10,
   "metadata": {},
   "outputs": [
    {
     "data": {
      "text/plain": [
       "array([[    0,     0,  1160],\n",
       "       [    0,     1,  3330],\n",
       "       [    0,     2,  1650],\n",
       "       ...,\n",
       "       [    5,  3610, 66944],\n",
       "       [    5,  3611, 58424],\n",
       "       [    5,  3612,   300]], dtype=int64)"
      ]
     },
     "execution_count": 10,
     "metadata": {},
     "output_type": "execute_result"
    }
   ],
   "source": [
    "# Definindo atributos que serão previsores e alvo de previsão\n",
    "previsores = df3.iloc[:, 0:3].values\n",
    "previsores"
   ]
  },
  {
   "cell_type": "code",
   "execution_count": 17,
   "metadata": {},
   "outputs": [
    {
     "data": {
      "text/plain": [
       "(3613, 3)"
      ]
     },
     "execution_count": 17,
     "metadata": {},
     "output_type": "execute_result"
    }
   ],
   "source": [
    "previsores.shape"
   ]
  },
  {
   "cell_type": "code",
   "execution_count": 11,
   "metadata": {},
   "outputs": [
    {
     "data": {
      "text/plain": [
       "array([ 11,  13,  12, ..., 808, 528,   1], dtype=int64)"
      ]
     },
     "execution_count": 11,
     "metadata": {},
     "output_type": "execute_result"
    }
   ],
   "source": [
    "alvo = df3.iloc[:, 3].values\n",
    "alvo"
   ]
  },
  {
   "cell_type": "code",
   "execution_count": 20,
   "metadata": {},
   "outputs": [
    {
     "data": {
      "text/plain": [
       "(3613,)"
      ]
     },
     "execution_count": 20,
     "metadata": {},
     "output_type": "execute_result"
    }
   ],
   "source": [
    "alvo.shape"
   ]
  },
  {
   "cell_type": "markdown",
   "metadata": {},
   "source": [
    "## **Análise das escalas dos atributos (Escalonamento)**"
   ]
  },
  {
   "cell_type": "code",
   "execution_count": 30,
   "metadata": {},
   "outputs": [
    {
     "data": {
      "text/html": [
       "<div>\n",
       "<style scoped>\n",
       "    .dataframe tbody tr th:only-of-type {\n",
       "        vertical-align: middle;\n",
       "    }\n",
       "\n",
       "    .dataframe tbody tr th {\n",
       "        vertical-align: top;\n",
       "    }\n",
       "\n",
       "    .dataframe thead th {\n",
       "        text-align: right;\n",
       "    }\n",
       "</style>\n",
       "<table border=\"1\" class=\"dataframe\">\n",
       "  <thead>\n",
       "    <tr style=\"text-align: right;\">\n",
       "      <th></th>\n",
       "      <th>Cost_ctr</th>\n",
       "      <th>Posting_date</th>\n",
       "      <th>QTY</th>\n",
       "      <th>Employees_QTY</th>\n",
       "    </tr>\n",
       "  </thead>\n",
       "  <tbody>\n",
       "    <tr>\n",
       "      <th>count</th>\n",
       "      <td>3613.000000</td>\n",
       "      <td>3613.000000</td>\n",
       "      <td>3613.000000</td>\n",
       "      <td>3613.000000</td>\n",
       "    </tr>\n",
       "    <tr>\n",
       "      <th>mean</th>\n",
       "      <td>2.603930</td>\n",
       "      <td>1806.000000</td>\n",
       "      <td>27463.464157</td>\n",
       "      <td>205.261279</td>\n",
       "    </tr>\n",
       "    <tr>\n",
       "      <th>std</th>\n",
       "      <td>1.670888</td>\n",
       "      <td>1043.127589</td>\n",
       "      <td>25948.141979</td>\n",
       "      <td>226.514060</td>\n",
       "    </tr>\n",
       "    <tr>\n",
       "      <th>min</th>\n",
       "      <td>0.000000</td>\n",
       "      <td>0.000000</td>\n",
       "      <td>50.000000</td>\n",
       "      <td>1.000000</td>\n",
       "    </tr>\n",
       "    <tr>\n",
       "      <th>25%</th>\n",
       "      <td>1.000000</td>\n",
       "      <td>903.000000</td>\n",
       "      <td>5273.000000</td>\n",
       "      <td>36.000000</td>\n",
       "    </tr>\n",
       "    <tr>\n",
       "      <th>50%</th>\n",
       "      <td>3.000000</td>\n",
       "      <td>1806.000000</td>\n",
       "      <td>17269.000000</td>\n",
       "      <td>107.000000</td>\n",
       "    </tr>\n",
       "    <tr>\n",
       "      <th>75%</th>\n",
       "      <td>4.000000</td>\n",
       "      <td>2709.000000</td>\n",
       "      <td>46587.000000</td>\n",
       "      <td>305.000000</td>\n",
       "    </tr>\n",
       "    <tr>\n",
       "      <th>max</th>\n",
       "      <td>5.000000</td>\n",
       "      <td>3612.000000</td>\n",
       "      <td>103292.000000</td>\n",
       "      <td>1039.000000</td>\n",
       "    </tr>\n",
       "  </tbody>\n",
       "</table>\n",
       "</div>"
      ],
      "text/plain": [
       "          Cost_ctr  Posting_date            QTY  Employees_QTY\n",
       "count  3613.000000   3613.000000    3613.000000    3613.000000\n",
       "mean      2.603930   1806.000000   27463.464157     205.261279\n",
       "std       1.670888   1043.127589   25948.141979     226.514060\n",
       "min       0.000000      0.000000      50.000000       1.000000\n",
       "25%       1.000000    903.000000    5273.000000      36.000000\n",
       "50%       3.000000   1806.000000   17269.000000     107.000000\n",
       "75%       4.000000   2709.000000   46587.000000     305.000000\n",
       "max       5.000000   3612.000000  103292.000000    1039.000000"
      ]
     },
     "execution_count": 30,
     "metadata": {},
     "output_type": "execute_result"
    }
   ],
   "source": [
    "df3.describe()"
   ]
  },
  {
   "cell_type": "markdown",
   "metadata": {},
   "source": [
    "Padronização (utiliza a média e o desvio padrão como referência).\n",
    "\n",
    "Normalização (utiliza os valores máximo e mínimo como referência)."
   ]
  },
  {
   "cell_type": "code",
   "execution_count": 13,
   "metadata": {},
   "outputs": [
    {
     "data": {
      "text/plain": [
       "array([[-1.55862659, -1.73157148, -1.01383386],\n",
       "       [-1.55862659, -1.73061269, -0.93019395],\n",
       "       [-1.55862659, -1.7296539 , -0.99494743],\n",
       "       ...,\n",
       "       [ 1.43420816,  1.7296539 ,  1.52172748],\n",
       "       [ 1.43420816,  1.73061269,  1.19333482],\n",
       "       [ 1.43420816,  1.73157148, -1.04698148]])"
      ]
     },
     "execution_count": 13,
     "metadata": {},
     "output_type": "execute_result"
    }
   ],
   "source": [
    "previsores_esc = StandardScaler().fit_transform(previsores)\n",
    "previsores_esc"
   ]
  },
  {
   "cell_type": "markdown",
   "metadata": {},
   "source": [
    "## **RESUMO PRÉ-PROCESSAMENTO**\n",
    "\n",
    "alvo = variável que se pretende atingir (quantidade de funcionários por setor).\n",
    "\n",
    "previsores = conjunto de variáveis previsoras com as variáveis categóricas transformadas em numéricas manualmente, sem escalonar.\n",
    "\n",
    "previsores_esc = conjunto de variáveis previsoras com as variáveis categóricas transformadas em numéricas, escalonada."
   ]
  },
  {
   "cell_type": "markdown",
   "metadata": {},
   "source": [
    "## **BASE DE TREINO E TESTE**"
   ]
  },
  {
   "cell_type": "markdown",
   "metadata": {},
   "source": [
    "Parâmetros train_test_split:   \n",
    "- arrays: nomes dos atributos previsores e alvo.   \n",
    "- test_size: tamanho em porcentagem dos dados de teste. default é none.   \n",
    "- train_size: tamanho em porcentagem dos dados de treinamento.default é none.  \n",
    "- random_state: nomeação de um estado aleatório.   \n",
    "- shuffle: embaralhamento dos dados aleatórios. Associado com o random_state ocorre o mesmo embaralhamento sempre. Default é True.  \n",
    "- stratify: Possibilidade de dividir os dados de forma estratificada. Default é None (nesse caso é mantido a proporção, isto é, se tem 30% de zeros e 70% de 1 no dataframe, na separação em treinamento e teste se manterá essa proporção)."
   ]
  },
  {
   "cell_type": "code",
   "execution_count": 14,
   "metadata": {},
   "outputs": [],
   "source": [
    "x_treino, x_teste, y_treino, y_teste = train_test_split(previsores, alvo, test_size = 0.3, random_state = 0)"
   ]
  },
  {
   "cell_type": "code",
   "execution_count": 15,
   "metadata": {},
   "outputs": [
    {
     "data": {
      "text/plain": [
       "(2529, 3)"
      ]
     },
     "execution_count": 15,
     "metadata": {},
     "output_type": "execute_result"
    }
   ],
   "source": [
    "x_treino.shape"
   ]
  },
  {
   "cell_type": "code",
   "execution_count": 16,
   "metadata": {},
   "outputs": [
    {
     "data": {
      "text/plain": [
       "(1084, 3)"
      ]
     },
     "execution_count": 16,
     "metadata": {},
     "output_type": "execute_result"
    }
   ],
   "source": [
    "x_teste.shape"
   ]
  },
  {
   "cell_type": "code",
   "execution_count": 17,
   "metadata": {},
   "outputs": [
    {
     "data": {
      "text/plain": [
       "(2529,)"
      ]
     },
     "execution_count": 17,
     "metadata": {},
     "output_type": "execute_result"
    }
   ],
   "source": [
    "y_treino.shape"
   ]
  },
  {
   "cell_type": "code",
   "execution_count": 18,
   "metadata": {},
   "outputs": [
    {
     "data": {
      "text/plain": [
       "(1084,)"
      ]
     },
     "execution_count": 18,
     "metadata": {},
     "output_type": "execute_result"
    }
   ],
   "source": [
    "y_teste.shape"
   ]
  },
  {
   "cell_type": "markdown",
   "metadata": {},
   "source": [
    "## **Salvando as variáveis (atributos)**"
   ]
  },
  {
   "cell_type": "code",
   "execution_count": 31,
   "metadata": {},
   "outputs": [],
   "source": [
    "df3.to_csv('zppoutput_processed.csv', sep=';', encoding='utf-8', index = False)"
   ]
  }
 ],
 "metadata": {
  "kernelspec": {
   "display_name": "Python 3",
   "language": "python",
   "name": "python3"
  },
  "language_info": {
   "codemirror_mode": {
    "name": "ipython",
    "version": 3
   },
   "file_extension": ".py",
   "mimetype": "text/x-python",
   "name": "python",
   "nbconvert_exporter": "python",
   "pygments_lexer": "ipython3",
   "version": "3.10.11"
  }
 },
 "nbformat": 4,
 "nbformat_minor": 2
}
