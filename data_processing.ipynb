{
 "cells": [
  {
   "cell_type": "markdown",
   "metadata": {},
   "source": [
    "# **PRÉ-PROCESSAMENTO**"
   ]
  },
  {
   "cell_type": "code",
   "execution_count": 1,
   "metadata": {},
   "outputs": [],
   "source": [
    "import numpy as np\n",
    "import pandas as pd\n",
    "import seaborn as sns"
   ]
  },
  {
   "cell_type": "code",
   "execution_count": 2,
   "metadata": {},
   "outputs": [],
   "source": [
    "df_stdhours = pd.read_csv(r\"C:\\Users\\admin\\Desktop\\Projetos\\DBs\\STD Hours_1s2022.csv\", delimiter=';')"
   ]
  },
  {
   "cell_type": "code",
   "execution_count": 3,
   "metadata": {},
   "outputs": [
    {
     "data": {
      "text/html": [
       "<div>\n",
       "<style scoped>\n",
       "    .dataframe tbody tr th:only-of-type {\n",
       "        vertical-align: middle;\n",
       "    }\n",
       "\n",
       "    .dataframe tbody tr th {\n",
       "        vertical-align: top;\n",
       "    }\n",
       "\n",
       "    .dataframe thead th {\n",
       "        text-align: right;\n",
       "    }\n",
       "</style>\n",
       "<table border=\"1\" class=\"dataframe\">\n",
       "  <thead>\n",
       "    <tr style=\"text-align: right;\">\n",
       "      <th></th>\n",
       "      <th>Order numb</th>\n",
       "      <th>Posting Da</th>\n",
       "      <th>Act. start</th>\n",
       "      <th>Material C</th>\n",
       "      <th>GrV</th>\n",
       "      <th>Act</th>\n",
       "      <th>StTextKy</th>\n",
       "      <th>StTextKy_1</th>\n",
       "      <th>Phase  description short text</th>\n",
       "      <th>Pure Std H</th>\n",
       "      <th>...</th>\n",
       "      <th>Act _3</th>\n",
       "      <th>Rev</th>\n",
       "      <th>Founder Or</th>\n",
       "      <th>Father Ord</th>\n",
       "      <th>Plnt</th>\n",
       "      <th>Split orde</th>\n",
       "      <th>Split orde_4</th>\n",
       "      <th>Work cente</th>\n",
       "      <th>C</th>\n",
       "      <th>Time</th>\n",
       "    </tr>\n",
       "  </thead>\n",
       "  <tbody>\n",
       "    <tr>\n",
       "      <th>0</th>\n",
       "      <td>1820587547</td>\n",
       "      <td>03.01.2022</td>\n",
       "      <td>11:07:37</td>\n",
       "      <td>0OO9417L</td>\n",
       "      <td>94170359</td>\n",
       "      <td>160</td>\n",
       "      <td>PRA1</td>\n",
       "      <td>BRAM108</td>\n",
       "      <td>COLAR ADORNO (BIADESIVO)</td>\n",
       "      <td>0,330</td>\n",
       "      <td>...</td>\n",
       "      <td>190</td>\n",
       "      <td></td>\n",
       "      <td></td>\n",
       "      <td></td>\n",
       "      <td>BR50</td>\n",
       "      <td></td>\n",
       "      <td></td>\n",
       "      <td>46.34</td>\n",
       "      <td>X</td>\n",
       "      <td>15:07:37</td>\n",
       "    </tr>\n",
       "    <tr>\n",
       "      <th>1</th>\n",
       "      <td>1820587547</td>\n",
       "      <td>03.01.2022</td>\n",
       "      <td>11:07:37</td>\n",
       "      <td>0OO9417L</td>\n",
       "      <td>94170359</td>\n",
       "      <td>180</td>\n",
       "      <td>PRA1</td>\n",
       "      <td>BRAM108</td>\n",
       "      <td>COLAR ADORNO (BIADESIVO)</td>\n",
       "      <td>0,330</td>\n",
       "      <td>...</td>\n",
       "      <td>190</td>\n",
       "      <td></td>\n",
       "      <td></td>\n",
       "      <td></td>\n",
       "      <td>BR50</td>\n",
       "      <td></td>\n",
       "      <td></td>\n",
       "      <td>46.34</td>\n",
       "      <td>X</td>\n",
       "      <td>15:07:37</td>\n",
       "    </tr>\n",
       "    <tr>\n",
       "      <th>2</th>\n",
       "      <td>1820587547</td>\n",
       "      <td>03.01.2022</td>\n",
       "      <td>11:07:37</td>\n",
       "      <td>0OO9417L</td>\n",
       "      <td>94170359</td>\n",
       "      <td>140</td>\n",
       "      <td>PRA1</td>\n",
       "      <td>BRAM118</td>\n",
       "      <td>CRAVAR ADORNO NO FRONTAL</td>\n",
       "      <td>0,230</td>\n",
       "      <td>...</td>\n",
       "      <td>190</td>\n",
       "      <td></td>\n",
       "      <td></td>\n",
       "      <td></td>\n",
       "      <td>BR50</td>\n",
       "      <td></td>\n",
       "      <td></td>\n",
       "      <td>46.34</td>\n",
       "      <td>X</td>\n",
       "      <td>15:07:37</td>\n",
       "    </tr>\n",
       "    <tr>\n",
       "      <th>3</th>\n",
       "      <td>1820587547</td>\n",
       "      <td>03.01.2022</td>\n",
       "      <td>11:07:37</td>\n",
       "      <td>0OO9417L</td>\n",
       "      <td>94170359</td>\n",
       "      <td>150</td>\n",
       "      <td>PRA1</td>\n",
       "      <td>BRAM118</td>\n",
       "      <td>CRAVAR ADORNO NO FRONTAL</td>\n",
       "      <td>0,230</td>\n",
       "      <td>...</td>\n",
       "      <td>190</td>\n",
       "      <td></td>\n",
       "      <td></td>\n",
       "      <td></td>\n",
       "      <td>BR50</td>\n",
       "      <td></td>\n",
       "      <td></td>\n",
       "      <td>46.34</td>\n",
       "      <td>X</td>\n",
       "      <td>15:07:37</td>\n",
       "    </tr>\n",
       "    <tr>\n",
       "      <th>4</th>\n",
       "      <td>1820587547</td>\n",
       "      <td>03.01.2022</td>\n",
       "      <td>13:42:02</td>\n",
       "      <td>0OO9417L</td>\n",
       "      <td>94170359</td>\n",
       "      <td>200</td>\n",
       "      <td>AMM1</td>\n",
       "      <td>BRAM075</td>\n",
       "      <td>SERRAR HASTES (FARO)</td>\n",
       "      <td>0,240</td>\n",
       "      <td>...</td>\n",
       "      <td>210</td>\n",
       "      <td></td>\n",
       "      <td></td>\n",
       "      <td></td>\n",
       "      <td>BR50</td>\n",
       "      <td></td>\n",
       "      <td></td>\n",
       "      <td>46.34</td>\n",
       "      <td>X</td>\n",
       "      <td>17:42:02</td>\n",
       "    </tr>\n",
       "  </tbody>\n",
       "</table>\n",
       "<p>5 rows × 31 columns</p>\n",
       "</div>"
      ],
      "text/plain": [
       "   Order numb  Posting Da  Act. start  Material C   GrV       Act   StTextKy  \\\n",
       "0  1820587547  03.01.2022  11:07:37    0OO9417L     94170359   160  PRA1       \n",
       "1  1820587547  03.01.2022  11:07:37    0OO9417L     94170359   180  PRA1       \n",
       "2  1820587547  03.01.2022  11:07:37    0OO9417L     94170359   140  PRA1       \n",
       "3  1820587547  03.01.2022  11:07:37    0OO9417L     94170359   150  PRA1       \n",
       "4  1820587547  03.01.2022  13:42:02    0OO9417L     94170359   200  AMM1       \n",
       "\n",
       "  StTextKy_1  Phase  description short text             Pure Std H  ...  \\\n",
       "0   BRAM108   COLAR ADORNO (BIADESIVO)                      0,330   ...   \n",
       "1   BRAM108   COLAR ADORNO (BIADESIVO)                      0,330   ...   \n",
       "2   BRAM118   CRAVAR ADORNO NO FRONTAL                      0,230   ...   \n",
       "3   BRAM118   CRAVAR ADORNO NO FRONTAL                      0,230   ...   \n",
       "4   BRAM075   SERRAR HASTES (FARO)                          0,240   ...   \n",
       "\n",
       "  Act _3  Rev  Founder Or  Father Ord  Plnt  Split orde Split orde_4  \\\n",
       "0    190                               BR50                            \n",
       "1    190                               BR50                            \n",
       "2    190                               BR50                            \n",
       "3    190                               BR50                            \n",
       "4    210                               BR50                            \n",
       "\n",
       "  Work cente  C  Time      \n",
       "0      46.34  X  15:07:37  \n",
       "1      46.34  X  15:07:37  \n",
       "2      46.34  X  15:07:37  \n",
       "3      46.34  X  15:07:37  \n",
       "4      46.34  X  17:42:02  \n",
       "\n",
       "[5 rows x 31 columns]"
      ]
     },
     "execution_count": 3,
     "metadata": {},
     "output_type": "execute_result"
    }
   ],
   "source": [
    "df_stdhours.head()"
   ]
  },
  {
   "cell_type": "markdown",
   "metadata": {},
   "source": [
    "## **Análise dos Atributos (df_stdhours)**"
   ]
  },
  {
   "cell_type": "markdown",
   "metadata": {},
   "source": [
    "### **Order numb = número da ordem de produção**"
   ]
  },
  {
   "cell_type": "code",
   "execution_count": 3,
   "metadata": {},
   "outputs": [
    {
     "data": {
      "text/plain": [
       "1825474556    161\n",
       "1825322707    142\n",
       "1822457943    115\n",
       "1822510481    110\n",
       "1824361033    107\n",
       "             ... \n",
       "1825698056      1\n",
       "1825698384      1\n",
       "1825698385      1\n",
       "1823459427      1\n",
       "1826751296      1\n",
       "Name: Order numb, Length: 69352, dtype: int64"
      ]
     },
     "execution_count": 3,
     "metadata": {},
     "output_type": "execute_result"
    }
   ],
   "source": [
    "df_stdhours['Order numb'].value_counts()"
   ]
  },
  {
   "cell_type": "code",
   "execution_count": 16,
   "metadata": {},
   "outputs": [
    {
     "data": {
      "text/plain": [
       "0"
      ]
     },
     "execution_count": 16,
     "metadata": {},
     "output_type": "execute_result"
    }
   ],
   "source": [
    "df_stdhours['Order numb'].isnull().sum()"
   ]
  },
  {
   "cell_type": "markdown",
   "metadata": {},
   "source": [
    "### **Posting Da = data em que o pedido de produção foi feito**"
   ]
  },
  {
   "cell_type": "code",
   "execution_count": 4,
   "metadata": {},
   "outputs": [
    {
     "data": {
      "text/plain": [
       "30.06.2022    9508\n",
       "28.06.2022    9045\n",
       "30.05.2022    8839\n",
       "27.06.2022    8732\n",
       "15.06.2022    8684\n",
       "              ... \n",
       "06.03.2022      18\n",
       "23.01.2022      16\n",
       "19.06.2022       7\n",
       "01.05.2022       2\n",
       "05.06.2022       2\n",
       "Name: Posting Da, Length: 161, dtype: int64"
      ]
     },
     "execution_count": 4,
     "metadata": {},
     "output_type": "execute_result"
    }
   ],
   "source": [
    "df_stdhours['Posting Da'].value_counts()"
   ]
  },
  {
   "cell_type": "code",
   "execution_count": 10,
   "metadata": {},
   "outputs": [
    {
     "data": {
      "text/plain": [
       "01.02.2022    6846\n",
       "01.04.2022    6325\n",
       "01.05.2022       2\n",
       "01.06.2022    8061\n",
       "02.02.2022    6700\n",
       "              ... \n",
       "30.05.2022    8839\n",
       "30.06.2022    9508\n",
       "31.01.2022    6992\n",
       "31.03.2022    6949\n",
       "31.05.2022    7423\n",
       "Name: Posting Da, Length: 161, dtype: int64"
      ]
     },
     "execution_count": 10,
     "metadata": {},
     "output_type": "execute_result"
    }
   ],
   "source": [
    "df_stdhours['Posting Da'].value_counts().sort_index()"
   ]
  },
  {
   "cell_type": "code",
   "execution_count": 15,
   "metadata": {},
   "outputs": [
    {
     "data": {
      "text/plain": [
       "0"
      ]
     },
     "execution_count": 15,
     "metadata": {},
     "output_type": "execute_result"
    }
   ],
   "source": [
    "df_stdhours['Posting Da'].isnull().sum()"
   ]
  },
  {
   "cell_type": "markdown",
   "metadata": {},
   "source": [
    "#### OBS: precisa trocar o tipo dessa variável para 'date' depois!"
   ]
  },
  {
   "cell_type": "markdown",
   "metadata": {},
   "source": [
    "### **Material C = informação do que foi pedido para ser produzido (modelos acabados ou componentes)**"
   ]
  },
  {
   "cell_type": "code",
   "execution_count": 21,
   "metadata": {},
   "outputs": [
    {
     "data": {
      "text/plain": [
       "0OO9417        34287\n",
       "0RX7047        24320\n",
       "0OO9448        13858\n",
       "1TE4357A01      9070\n",
       "0OO9341         8631\n",
       "               ...  \n",
       "1TE4357B01         2\n",
       "1SZ1062A00         2\n",
       "RAX4079AB          2\n",
       "1AJA08SA01         1\n",
       "RTE3492AA          1\n",
       "Name: Material C , Length: 1617, dtype: int64"
      ]
     },
     "execution_count": 21,
     "metadata": {},
     "output_type": "execute_result"
    }
   ],
   "source": [
    "df_stdhours['Material C '].value_counts()"
   ]
  },
  {
   "cell_type": "code",
   "execution_count": 22,
   "metadata": {},
   "outputs": [
    {
     "data": {
      "text/plain": [
       "0AN3063L         54\n",
       "0AN4297        1360\n",
       "0AN4299         462\n",
       "0AN4301        1442\n",
       "0AN4304         500\n",
       "               ... \n",
       "RAX4117AB        30\n",
       "RAX4121AB        30\n",
       "RGL5617AC         6\n",
       "RTE3492AA         1\n",
       "RTE4439AA         2\n",
       "Name: Material C , Length: 1617, dtype: int64"
      ]
     },
     "execution_count": 22,
     "metadata": {},
     "output_type": "execute_result"
    }
   ],
   "source": [
    "df_stdhours['Material C '].value_counts().sort_index()"
   ]
  },
  {
   "cell_type": "code",
   "execution_count": 23,
   "metadata": {},
   "outputs": [
    {
     "data": {
      "text/plain": [
       "0"
      ]
     },
     "execution_count": 23,
     "metadata": {},
     "output_type": "execute_result"
    }
   ],
   "source": [
    "df_stdhours['Material C '].isnull().sum()"
   ]
  },
  {
   "cell_type": "markdown",
   "metadata": {},
   "source": [
    "#### OBS: tem a presença de espaços em cada linha de dado dessa coluna, até no cabeçalho. Será necessário remover estes espaços depois."
   ]
  },
  {
   "cell_type": "markdown",
   "metadata": {},
   "source": [
    "#### Não queremos estudar dados com relação a produção de componentes, apenas de modelos acabados, então será necessário remover todas as linhas cujo item nessa coluna não comece com \"0\", que é o caractere que identifica modelos acabados!"
   ]
  },
  {
   "cell_type": "markdown",
   "metadata": {},
   "source": [
    "### **GrV (grid value) = diferentes variações de um mesmo modelo/material**"
   ]
  },
  {
   "cell_type": "code",
   "execution_count": 24,
   "metadata": {},
   "outputs": [
    {
     "data": {
      "text/plain": [
       "            27319\n",
       "94170559    10990\n",
       "5196  54     7279\n",
       "PT055 AA     5563\n",
       "PT505 AA     4718\n",
       "            ...  \n",
       "HV143 AA        1\n",
       "92720256        1\n",
       "VM280 AA        1\n",
       "2499  53        1\n",
       "2897  53        1\n",
       "Name: GrV     , Length: 4547, dtype: int64"
      ]
     },
     "execution_count": 24,
     "metadata": {},
     "output_type": "execute_result"
    }
   ],
   "source": [
    "df_stdhours['GrV     '].value_counts()"
   ]
  },
  {
   "cell_type": "code",
   "execution_count": 26,
   "metadata": {},
   "outputs": [
    {
     "data": {
      "text/plain": [
       "0"
      ]
     },
     "execution_count": 26,
     "metadata": {},
     "output_type": "execute_result"
    }
   ],
   "source": [
    "df_stdhours['GrV     '].isnull().sum()"
   ]
  },
  {
   "cell_type": "markdown",
   "metadata": {},
   "source": [
    "#### OBS: também tem espaços nas linhas dessa coluna que precisam ser removidos para um tratamento posterior dos dados."
   ]
  },
  {
   "cell_type": "markdown",
   "metadata": {},
   "source": [
    "#### Talvez faça mais sentido posteriormente juntas as colunas \"Material C\" e \"GrV\" para montar uma coluna de \"SKU\", que é um identificador único de cada item que foi feito o pedido de produção."
   ]
  },
  {
   "cell_type": "markdown",
   "metadata": {},
   "source": [
    "### **StTextKy = código das milestones (grupos de operações realizadas pelos operadores)**"
   ]
  },
  {
   "cell_type": "code",
   "execution_count": 27,
   "metadata": {},
   "outputs": [
    {
     "data": {
      "text/plain": [
       "INJ1        121322\n",
       "LIN1        115640\n",
       "SAL1         76852\n",
       "VAP1         75786\n",
       "EMB1         65252\n",
       "             ...  \n",
       "LEN2            13\n",
       "VAP3             5\n",
       "INJ2             2\n",
       "RLIN             1\n",
       "RDEC             1\n",
       "Name: StTextKy, Length: 66, dtype: int64"
      ]
     },
     "execution_count": 27,
     "metadata": {},
     "output_type": "execute_result"
    }
   ],
   "source": [
    "df_stdhours['StTextKy'].value_counts()"
   ]
  },
  {
   "cell_type": "code",
   "execution_count": 3,
   "metadata": {},
   "outputs": [
    {
     "data": {
      "text/plain": [
       "0"
      ]
     },
     "execution_count": 3,
     "metadata": {},
     "output_type": "execute_result"
    }
   ],
   "source": [
    "df_stdhours['StTextKy'].isnull().sum()"
   ]
  },
  {
   "cell_type": "markdown",
   "metadata": {},
   "source": [
    "#### OBS: Há espaços entre os itens dessa coluna que também precisarão ser removidos."
   ]
  },
  {
   "cell_type": "markdown",
   "metadata": {},
   "source": [
    "### **StTextKy_1 = códigos das BRAS (operações individuais realizadas por cada operador)**"
   ]
  },
  {
   "cell_type": "code",
   "execution_count": 4,
   "metadata": {},
   "outputs": [
    {
     "data": {
      "text/plain": [
       "BRAP013     32519\n",
       "BRAM009     28106\n",
       "BRAM010     26904\n",
       "BRAM037     26524\n",
       "BRAI021     25528\n",
       "            ...  \n",
       "BRAS040         1\n",
       "BRAE050         1\n",
       "BRA5078         1\n",
       "BRA5035         1\n",
       "BRAP075         1\n",
       "Name: StTextKy_1, Length: 460, dtype: int64"
      ]
     },
     "execution_count": 4,
     "metadata": {},
     "output_type": "execute_result"
    }
   ],
   "source": [
    "df_stdhours['StTextKy_1'].value_counts()"
   ]
  },
  {
   "cell_type": "code",
   "execution_count": 5,
   "metadata": {},
   "outputs": [
    {
     "data": {
      "text/plain": [
       "0"
      ]
     },
     "execution_count": 5,
     "metadata": {},
     "output_type": "execute_result"
    }
   ],
   "source": [
    "df_stdhours['StTextKy_1'].isnull().sum()"
   ]
  },
  {
   "cell_type": "markdown",
   "metadata": {},
   "source": [
    "#### OBS: Há espaços entre os itens dessa coluna que também precisarão ser removidos."
   ]
  },
  {
   "cell_type": "markdown",
   "metadata": {},
   "source": [
    "### **Entered By = Usuário/pessoa que realizou determinada operação em uma peça**"
   ]
  },
  {
   "cell_type": "code",
   "execution_count": 6,
   "metadata": {},
   "outputs": [
    {
     "data": {
      "text/plain": [
       "GICELES         63830\n",
       "MARCELOCB       49935\n",
       "MSILVA1         42733\n",
       "FABIANOA        35426\n",
       "MAYARAO         33519\n",
       "                ...  \n",
       "CESAREDR            1\n",
       "WELLINGTONT         1\n",
       "MAIARAAS            1\n",
       "BEATRIZB            1\n",
       "JESSICABS           1\n",
       "Name: Entered By  , Length: 156, dtype: int64"
      ]
     },
     "execution_count": 6,
     "metadata": {},
     "output_type": "execute_result"
    }
   ],
   "source": [
    "df_stdhours['Entered By  '].value_counts()"
   ]
  },
  {
   "cell_type": "code",
   "execution_count": 7,
   "metadata": {},
   "outputs": [
    {
     "data": {
      "text/plain": [
       "0"
      ]
     },
     "execution_count": 7,
     "metadata": {},
     "output_type": "execute_result"
    }
   ],
   "source": [
    "df_stdhours['Entered By  '].isnull().sum()"
   ]
  },
  {
   "cell_type": "markdown",
   "metadata": {},
   "source": [
    "#### OBS: Há espaços entre os itens dessa coluna que também precisarão ser removidos."
   ]
  },
  {
   "cell_type": "markdown",
   "metadata": {},
   "source": [
    "#### Os nomes não estão escritos em um padrão. Como este é o código de usuário da pessoa, as vezes ele começa com o primeiro nome da pessoa, as vezes com o sobrenome, então talvez faça sentido substituir posteriormente estes códigos de usuários por um código numérico simples."
   ]
  },
  {
   "cell_type": "markdown",
   "metadata": {},
   "source": [
    "### **Cost Ctr = Centro de custo da fábrica (setor da linha de produção)**"
   ]
  },
  {
   "cell_type": "code",
   "execution_count": 8,
   "metadata": {},
   "outputs": [
    {
     "data": {
      "text/plain": [
       "132-45565    290257\n",
       "132-31265    233321\n",
       "132-10365    178446\n",
       "132-07565    129642\n",
       "132-31865     68885\n",
       "132-07265     62319\n",
       "Name: Cost Ctr , dtype: int64"
      ]
     },
     "execution_count": 8,
     "metadata": {},
     "output_type": "execute_result"
    }
   ],
   "source": [
    "df_stdhours['Cost Ctr '].value_counts()"
   ]
  },
  {
   "cell_type": "code",
   "execution_count": 9,
   "metadata": {},
   "outputs": [
    {
     "data": {
      "text/plain": [
       "0"
      ]
     },
     "execution_count": 9,
     "metadata": {},
     "output_type": "execute_result"
    }
   ],
   "source": [
    "df_stdhours['Cost Ctr '].isnull().sum()"
   ]
  },
  {
   "cell_type": "markdown",
   "metadata": {},
   "source": [
    "#### OBS: Existem apenas 7 centros de custo (setores) na linha de produção da fábrica, mas o centro de custo 'polimento e galvânica' (A00200) está sendo considerado dentro do centro de custo 'solda metal' (132-07265), portanto será necessário identificar quem são os operadores que trabalham no centro de custo 'polimento e galvânica' e separá-los, através de uma tabela externa."
   ]
  },
  {
   "cell_type": "markdown",
   "metadata": {},
   "source": [
    "#### Podemos depois substituir o código dos centros de custo por um código numérico."
   ]
  },
  {
   "cell_type": "markdown",
   "metadata": {},
   "source": [
    "### **Work ctr = centro de trabalho (subsetor dentro de um setor da produção)**"
   ]
  },
  {
   "cell_type": "code",
   "execution_count": 10,
   "metadata": {},
   "outputs": [
    {
     "data": {
      "text/plain": [
       "A0010300    127169\n",
       "A0008102    116173\n",
       "A0007500     77611\n",
       "A0010600     76794\n",
       "A0008105     65818\n",
       "A0010604     58226\n",
       "A0010301     56551\n",
       "A0025500     51277\n",
       "A0010603     43327\n",
       "A0008100     38655\n",
       "A0008103     36674\n",
       "A0020403     33109\n",
       "A0008104     32937\n",
       "A0020100     31262\n",
       "A0007201     24479\n",
       "A0007202     23544\n",
       "A0019800     20769\n",
       "A0010601     16100\n",
       "A0007200     14296\n",
       "A0010302     12334\n",
       "A0010602      4911\n",
       "A0020402       816\n",
       "A0020401        38\n",
       "Name: Work ctr, dtype: int64"
      ]
     },
     "execution_count": 10,
     "metadata": {},
     "output_type": "execute_result"
    }
   ],
   "source": [
    "df_stdhours['Work ctr'].value_counts()"
   ]
  },
  {
   "cell_type": "code",
   "execution_count": 11,
   "metadata": {},
   "outputs": [
    {
     "data": {
      "text/plain": [
       "0"
      ]
     },
     "execution_count": 11,
     "metadata": {},
     "output_type": "execute_result"
    }
   ],
   "source": [
    "df_stdhours['Work ctr'].isnull().sum()"
   ]
  },
  {
   "cell_type": "markdown",
   "metadata": {},
   "source": [
    "#### OBS: Os códigos dos centros de trabalho podem ser substituídos posteriormente por números."
   ]
  },
  {
   "cell_type": "markdown",
   "metadata": {},
   "source": [
    "### **OBS: As demais colunas nesta base de dados não possuem informações que agregam para o seu objetivo, que é fornecer uma visão de quais funcionários estavam trabalhando em qual setor da produção da fábrica em um determinado momento, portanto serão todas excluídas!**"
   ]
  },
  {
   "cell_type": "markdown",
   "metadata": {},
   "source": [
    "## **Análise dos tipos de atributos.**"
   ]
  },
  {
   "cell_type": "code",
   "execution_count": 12,
   "metadata": {},
   "outputs": [
    {
     "data": {
      "text/plain": [
       "Order numb                                    int64\n",
       "Posting Da                                   object\n",
       "Act. start                                   object\n",
       "Material C                                   object\n",
       "GrV                                          object\n",
       "Act                                           int64\n",
       "StTextKy                                     object\n",
       "StTextKy_1                                   object\n",
       "Phase  description short text                object\n",
       "Pure Std H                                   object\n",
       "       Yield                                 object\n",
       "Entered By                                   object\n",
       "Cost Ctr                                     object\n",
       "Ctrl                                         object\n",
       "Completion                                    int64\n",
       "Type                                         object\n",
       "Confirmati                                   object\n",
       "Location                                     object\n",
       "Work ctr                                     object\n",
       "Work ctr_2                                   object\n",
       "Un                                           object\n",
       "Act _3                                        int64\n",
       "Rev                                          object\n",
       "Founder Or                                   object\n",
       "Father Ord                                   object\n",
       "Plnt                                         object\n",
       "Split orde                                   object\n",
       "Split orde_4                                 object\n",
       "Work cente                                  float64\n",
       "C                                            object\n",
       "Time                                         object\n",
       "dtype: object"
      ]
     },
     "execution_count": 12,
     "metadata": {},
     "output_type": "execute_result"
    }
   ],
   "source": [
    "df_stdhours.dtypes"
   ]
  },
  {
   "cell_type": "markdown",
   "metadata": {},
   "source": [
    "## **Valores missing (NAN)**"
   ]
  },
  {
   "cell_type": "code",
   "execution_count": 13,
   "metadata": {},
   "outputs": [
    {
     "data": {
      "text/plain": [
       "Order numb                                  0\n",
       "Posting Da                                  0\n",
       "Act. start                                  0\n",
       "Material C                                  0\n",
       "GrV                                         0\n",
       "Act                                         0\n",
       "StTextKy                                    0\n",
       "StTextKy_1                                  0\n",
       "Phase  description short text               0\n",
       "Pure Std H                                  0\n",
       "       Yield                                0\n",
       "Entered By                                  0\n",
       "Cost Ctr                                    0\n",
       "Ctrl                                        0\n",
       "Completion                                  0\n",
       "Type                                        0\n",
       "Confirmati                                  0\n",
       "Location                                    0\n",
       "Work ctr                                    0\n",
       "Work ctr_2                                  0\n",
       "Un                                          0\n",
       "Act _3                                      0\n",
       "Rev                                         0\n",
       "Founder Or                                  0\n",
       "Father Ord                                  0\n",
       "Plnt                                        0\n",
       "Split orde                                  0\n",
       "Split orde_4                                0\n",
       "Work cente                                  0\n",
       "C                                           0\n",
       "Time                                        0\n",
       "dtype: int64"
      ]
     },
     "execution_count": 13,
     "metadata": {},
     "output_type": "execute_result"
    }
   ],
   "source": [
    "df_stdhours.isnull().sum()"
   ]
  },
  {
   "cell_type": "code",
   "execution_count": 15,
   "metadata": {},
   "outputs": [],
   "source": [
    "df_zppoutput = pd.read_csv(r\"C:\\Users\\admin\\Desktop\\Projetos\\DBs\\zppoutput_1s2022.csv\", delimiter=';')"
   ]
  },
  {
   "cell_type": "code",
   "execution_count": 16,
   "metadata": {},
   "outputs": [
    {
     "data": {
      "text/html": [
       "<div>\n",
       "<style scoped>\n",
       "    .dataframe tbody tr th:only-of-type {\n",
       "        vertical-align: middle;\n",
       "    }\n",
       "\n",
       "    .dataframe tbody tr th {\n",
       "        vertical-align: top;\n",
       "    }\n",
       "\n",
       "    .dataframe thead th {\n",
       "        text-align: right;\n",
       "    }\n",
       "</style>\n",
       "<table border=\"1\" class=\"dataframe\">\n",
       "  <thead>\n",
       "    <tr style=\"text-align: right;\">\n",
       "      <th></th>\n",
       "      <th>Material</th>\n",
       "      <th>Grid Value</th>\n",
       "      <th>Order Number</th>\n",
       "      <th>Yield to confirm</th>\n",
       "      <th>Posting date</th>\n",
       "      <th>Local time</th>\n",
       "      <th>Scrap to confirm</th>\n",
       "      <th>Std.text Key</th>\n",
       "      <th>Split  quantity</th>\n",
       "      <th>Scrap Reason code</th>\n",
       "      <th>Control key</th>\n",
       "      <th>Material Group</th>\n",
       "      <th>Entered by</th>\n",
       "      <th>Order Type</th>\n",
       "      <th>BO Quantity</th>\n",
       "      <th>Planned finish date</th>\n",
       "      <th>Qty rework 1</th>\n",
       "      <th>Reason code description</th>\n",
       "      <th>Split Order</th>\n",
       "      <th>Split Reason code</th>\n",
       "    </tr>\n",
       "  </thead>\n",
       "  <tbody>\n",
       "    <tr>\n",
       "      <th>0</th>\n",
       "      <td>1TE2749A01</td>\n",
       "      <td>PT083 AA</td>\n",
       "      <td>1823457820</td>\n",
       "      <td>420,000</td>\n",
       "      <td>04.02.2022</td>\n",
       "      <td>23:59:59</td>\n",
       "      <td>0,000</td>\n",
       "      <td>VAP1</td>\n",
       "      <td>0,000</td>\n",
       "      <td></td>\n",
       "      <td>ZP11</td>\n",
       "      <td>L174</td>\n",
       "      <td>NADIELDL</td>\n",
       "      <td>ZP10</td>\n",
       "      <td>0</td>\n",
       "      <td>10.02.2022</td>\n",
       "      <td>0,000</td>\n",
       "      <td></td>\n",
       "      <td></td>\n",
       "      <td></td>\n",
       "    </tr>\n",
       "    <tr>\n",
       "      <th>1</th>\n",
       "      <td>1AJA13QA01</td>\n",
       "      <td>PT541 AA</td>\n",
       "      <td>1824912991</td>\n",
       "      <td>100,000</td>\n",
       "      <td>18.04.2022</td>\n",
       "      <td>23:59:59</td>\n",
       "      <td>0,000</td>\n",
       "      <td>VAP1</td>\n",
       "      <td>0,000</td>\n",
       "      <td></td>\n",
       "      <td>ZP11</td>\n",
       "      <td>L263</td>\n",
       "      <td>CAPARECIDA</td>\n",
       "      <td>ZP10</td>\n",
       "      <td>0</td>\n",
       "      <td>22.04.2022</td>\n",
       "      <td>0,000</td>\n",
       "      <td></td>\n",
       "      <td></td>\n",
       "      <td></td>\n",
       "    </tr>\n",
       "    <tr>\n",
       "      <th>2</th>\n",
       "      <td>0P93152</td>\n",
       "      <td>G543  53</td>\n",
       "      <td>1825322319</td>\n",
       "      <td>89,000</td>\n",
       "      <td>27.05.2022</td>\n",
       "      <td>23:59:59</td>\n",
       "      <td>0,000</td>\n",
       "      <td>KIT1</td>\n",
       "      <td>0,000</td>\n",
       "      <td></td>\n",
       "      <td>ZP14</td>\n",
       "      <td>L196</td>\n",
       "      <td>JENIFFERTLB</td>\n",
       "      <td>ZP10</td>\n",
       "      <td>0</td>\n",
       "      <td>31.05.2022</td>\n",
       "      <td>0,000</td>\n",
       "      <td></td>\n",
       "      <td></td>\n",
       "      <td></td>\n",
       "    </tr>\n",
       "    <tr>\n",
       "      <th>3</th>\n",
       "      <td>1AM8257A01</td>\n",
       "      <td>DR272 AA</td>\n",
       "      <td>1825934050</td>\n",
       "      <td>129,000</td>\n",
       "      <td>03.06.2022</td>\n",
       "      <td>23:59:59</td>\n",
       "      <td>0,000</td>\n",
       "      <td>DEC1</td>\n",
       "      <td>0,000</td>\n",
       "      <td></td>\n",
       "      <td>ZP11</td>\n",
       "      <td>L265</td>\n",
       "      <td>MARCOSPBDA</td>\n",
       "      <td>ZP10</td>\n",
       "      <td>0</td>\n",
       "      <td>03.06.2022</td>\n",
       "      <td>0,000</td>\n",
       "      <td></td>\n",
       "      <td></td>\n",
       "      <td></td>\n",
       "    </tr>\n",
       "    <tr>\n",
       "      <th>4</th>\n",
       "      <td>0J83229</td>\n",
       "      <td>K186  53</td>\n",
       "      <td>1825931422</td>\n",
       "      <td>98,000</td>\n",
       "      <td>07.06.2022</td>\n",
       "      <td>23:59:59</td>\n",
       "      <td>0,000</td>\n",
       "      <td>ENG1</td>\n",
       "      <td>0,000</td>\n",
       "      <td></td>\n",
       "      <td>ZP11</td>\n",
       "      <td>L196</td>\n",
       "      <td>CAPARECIDA</td>\n",
       "      <td>ZP10</td>\n",
       "      <td>0</td>\n",
       "      <td>22.06.2022</td>\n",
       "      <td>0,000</td>\n",
       "      <td></td>\n",
       "      <td></td>\n",
       "      <td></td>\n",
       "    </tr>\n",
       "  </tbody>\n",
       "</table>\n",
       "</div>"
      ],
      "text/plain": [
       "    Material     Grid Value  Order Number  Yield to confirm  Posting date  \\\n",
       "0   1TE2749A01   PT083 AA      1823457820          420,000   04.02.2022     \n",
       "1   1AJA13QA01   PT541 AA      1824912991          100,000   18.04.2022     \n",
       "2   0P93152      G543  53      1825322319           89,000   27.05.2022     \n",
       "3   1AM8257A01   DR272 AA      1825934050          129,000   03.06.2022     \n",
       "4   0J83229      K186  53      1825931422           98,000   07.06.2022     \n",
       "\n",
       "   Local time  Scrap to confirm  Std.text Key  Split  quantity  \\\n",
       "0  23:59:59              0,000   VAP1                   0,000    \n",
       "1  23:59:59              0,000   VAP1                   0,000    \n",
       "2  23:59:59              0,000   KIT1                   0,000    \n",
       "3  23:59:59              0,000   DEC1                   0,000    \n",
       "4  23:59:59              0,000   ENG1                   0,000    \n",
       "\n",
       "   Scrap Reason code  Control key  Material Group  Entered by    Order Type  \\\n",
       "0                     ZP11         L174            NADIELDL      ZP10         \n",
       "1                     ZP11         L263            CAPARECIDA    ZP10         \n",
       "2                     ZP14         L196            JENIFFERTLB   ZP10         \n",
       "3                     ZP11         L265            MARCOSPBDA    ZP10         \n",
       "4                     ZP11         L196            CAPARECIDA    ZP10         \n",
       "\n",
       "   BO Quantity  Planned finish date  Qty rework 1  \\\n",
       "0            0  10.02.2022                 0,000    \n",
       "1            0  22.04.2022                 0,000    \n",
       "2            0  31.05.2022                 0,000    \n",
       "3            0  03.06.2022                 0,000    \n",
       "4            0  22.06.2022                 0,000    \n",
       "\n",
       "   Reason code description                  Split Order  Split Reason code  \n",
       "0                                                                           \n",
       "1                                                                           \n",
       "2                                                                           \n",
       "3                                                                           \n",
       "4                                                                           "
      ]
     },
     "execution_count": 16,
     "metadata": {},
     "output_type": "execute_result"
    }
   ],
   "source": [
    "df_zppoutput.head()"
   ]
  },
  {
   "cell_type": "markdown",
   "metadata": {},
   "source": [
    "## **Análise dos Atributos (df_zppoutput)**"
   ]
  },
  {
   "cell_type": "markdown",
   "metadata": {},
   "source": [
    "### **Material = informação do que foi pedido para ser produzido (modelos acabados ou componentes)**"
   ]
  },
  {
   "cell_type": "code",
   "execution_count": 17,
   "metadata": {},
   "outputs": [
    {
     "data": {
      "text/plain": [
       " 0RX7047        24023\n",
       " 0OO9417        20763\n",
       " 0OO9448         9234\n",
       " 0RX7046         7316\n",
       " 1AJ7922E01      7298\n",
       "                ...  \n",
       "0VO5418L            1\n",
       "0RX7047             1\n",
       " 0VO5292L           1\n",
       "0RX4378V            1\n",
       " RAX4085AB          1\n",
       "Name:  Material   , Length: 1625, dtype: int64"
      ]
     },
     "execution_count": 17,
     "metadata": {},
     "output_type": "execute_result"
    }
   ],
   "source": [
    "df_zppoutput[' Material   '].value_counts()"
   ]
  },
  {
   "cell_type": "code",
   "execution_count": 18,
   "metadata": {},
   "outputs": [
    {
     "data": {
      "text/plain": [
       "0"
      ]
     },
     "execution_count": 18,
     "metadata": {},
     "output_type": "execute_result"
    }
   ],
   "source": [
    "df_zppoutput[' Material   '].isnull().sum()"
   ]
  },
  {
   "cell_type": "markdown",
   "metadata": {},
   "source": [
    "#### OBS: Há espaços entre os itens dessa coluna que também precisarão ser removidos."
   ]
  },
  {
   "cell_type": "markdown",
   "metadata": {},
   "source": [
    "### **Grid Value = diferentes variações de um mesmo modelo/material**"
   ]
  },
  {
   "cell_type": "code",
   "execution_count": 19,
   "metadata": {},
   "outputs": [
    {
     "data": {
      "text/plain": [
       "              25441\n",
       "5196  54       7797\n",
       "94170559       7043\n",
       "PT055 AA       5698\n",
       "5196  56       4533\n",
       "              ...  \n",
       "G131  54          1\n",
       "6267B953          1\n",
       "6253B853          1\n",
       "I361  57          1\n",
       "H537  54          1\n",
       "Name: Grid Value, Length: 4558, dtype: int64"
      ]
     },
     "execution_count": 19,
     "metadata": {},
     "output_type": "execute_result"
    }
   ],
   "source": [
    "df_zppoutput['Grid Value'].value_counts()"
   ]
  },
  {
   "cell_type": "code",
   "execution_count": 20,
   "metadata": {},
   "outputs": [
    {
     "data": {
      "text/plain": [
       "0"
      ]
     },
     "execution_count": 20,
     "metadata": {},
     "output_type": "execute_result"
    }
   ],
   "source": [
    "df_zppoutput['Grid Value'].isnull().sum()"
   ]
  },
  {
   "cell_type": "markdown",
   "metadata": {},
   "source": [
    "#### OBS: Talvez faça mais sentido posteriormente juntas as colunas \"Material\" e \"Grid Value\" para montar uma coluna de \"SKU\", que é um identificador único de cada item que foi feito o pedido de produção."
   ]
  },
  {
   "cell_type": "markdown",
   "metadata": {},
   "source": [
    "### **Order numb = número da ordem de produção**"
   ]
  },
  {
   "cell_type": "code",
   "execution_count": 21,
   "metadata": {},
   "outputs": [
    {
     "data": {
      "text/plain": [
       "1826167234    36\n",
       "1823767255    34\n",
       "1825462458    34\n",
       "1824999921    33\n",
       "1823336173    32\n",
       "              ..\n",
       "1826364389     1\n",
       "1826364511     1\n",
       "1825944479     1\n",
       "1826364385     1\n",
       "1825977072     1\n",
       "Name: Order Number, Length: 75349, dtype: int64"
      ]
     },
     "execution_count": 21,
     "metadata": {},
     "output_type": "execute_result"
    }
   ],
   "source": [
    "df_zppoutput['Order Number'].value_counts()"
   ]
  },
  {
   "cell_type": "code",
   "execution_count": 22,
   "metadata": {},
   "outputs": [
    {
     "data": {
      "text/plain": [
       "0"
      ]
     },
     "execution_count": 22,
     "metadata": {},
     "output_type": "execute_result"
    }
   ],
   "source": [
    "df_zppoutput['Order Number'].isnull().sum()"
   ]
  },
  {
   "cell_type": "markdown",
   "metadata": {},
   "source": [
    "### **Yield to confirm = número de peças produzidas**"
   ]
  },
  {
   "cell_type": "code",
   "execution_count": 23,
   "metadata": {},
   "outputs": [
    {
     "data": {
      "text/plain": [
       "          0,000     163269\n",
       "        100,000      61221\n",
       "        300,000      20563\n",
       "        320,000      19248\n",
       "         50,000      14187\n",
       "                     ...  \n",
       "        294,700          1\n",
       "        535,000          1\n",
       "        760,000          1\n",
       "         28,970          1\n",
       "        446,000          1\n",
       "Name: Yield to confirm, Length: 447, dtype: int64"
      ]
     },
     "execution_count": 23,
     "metadata": {},
     "output_type": "execute_result"
    }
   ],
   "source": [
    "df_zppoutput['Yield to confirm'].value_counts()"
   ]
  },
  {
   "cell_type": "code",
   "execution_count": 24,
   "metadata": {},
   "outputs": [
    {
     "data": {
      "text/plain": [
       "0"
      ]
     },
     "execution_count": 24,
     "metadata": {},
     "output_type": "execute_result"
    }
   ],
   "source": [
    "df_zppoutput['Yield to confirm'].isnull().sum()"
   ]
  },
  {
   "cell_type": "markdown",
   "metadata": {},
   "source": [
    "#### OBS: As linhas com  peças que possuem valor 0 nesta coluna podem ser excluídas, já que não agregarão nada para a análise posteriormente"
   ]
  },
  {
   "cell_type": "markdown",
   "metadata": {},
   "source": [
    "### **Posting date = data em que o pedido de produção foi feito**"
   ]
  },
  {
   "cell_type": "code",
   "execution_count": 25,
   "metadata": {},
   "outputs": [
    {
     "data": {
      "text/plain": [
       "24.06.2022      7050\n",
       "23.06.2022      6727\n",
       "27.06.2022      6690\n",
       "28.06.2022      6649\n",
       "21.06.2022      6622\n",
       "                ... \n",
       "20.03.2022         4\n",
       "03.04.2022         3\n",
       "12.06.2022         3\n",
       "15.05.2022         1\n",
       "02.01.2022         1\n",
       "Name: Posting date, Length: 173, dtype: int64"
      ]
     },
     "execution_count": 25,
     "metadata": {},
     "output_type": "execute_result"
    }
   ],
   "source": [
    "df_zppoutput['Posting date'].value_counts()"
   ]
  },
  {
   "cell_type": "code",
   "execution_count": 26,
   "metadata": {},
   "outputs": [
    {
     "data": {
      "text/plain": [
       "0"
      ]
     },
     "execution_count": 26,
     "metadata": {},
     "output_type": "execute_result"
    }
   ],
   "source": [
    "df_zppoutput['Posting date'].isnull().sum()"
   ]
  },
  {
   "cell_type": "markdown",
   "metadata": {},
   "source": [
    "#### OBS: Esta coluna precisará ser convertida para o tipo 'date' posteriormente."
   ]
  },
  {
   "cell_type": "markdown",
   "metadata": {},
   "source": [
    "### **Std.text Key = código das Milestones (grupos de operações realizadas pelos operadores)**"
   ]
  },
  {
   "cell_type": "code",
   "execution_count": 27,
   "metadata": {},
   "outputs": [
    {
     "data": {
      "text/plain": [
       "QPA1            98605\n",
       "LIN1            74850\n",
       "ENG1            35213\n",
       "PST1            33695\n",
       "VAP1            30827\n",
       "                ...  \n",
       "VMP3               13\n",
       "LEN2               11\n",
       "FMI2                5\n",
       "VAP3                4\n",
       "INJ2                1\n",
       "Name: Std.text Key, Length: 91, dtype: int64"
      ]
     },
     "execution_count": 27,
     "metadata": {},
     "output_type": "execute_result"
    }
   ],
   "source": [
    "df_zppoutput['Std.text Key'].value_counts()"
   ]
  }
 ],
 "metadata": {
  "kernelspec": {
   "display_name": "Python 3",
   "language": "python",
   "name": "python3"
  },
  "language_info": {
   "codemirror_mode": {
    "name": "ipython",
    "version": 3
   },
   "file_extension": ".py",
   "mimetype": "text/x-python",
   "name": "python",
   "nbconvert_exporter": "python",
   "pygments_lexer": "ipython3",
   "version": "3.10.11"
  },
  "orig_nbformat": 4
 },
 "nbformat": 4,
 "nbformat_minor": 2
}
